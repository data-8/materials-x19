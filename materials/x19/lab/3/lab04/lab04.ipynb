{
 "cells": [
  {
   "cell_type": "markdown",
   "source": [
    "# Lab 4: Song Classification, Part 1\n",
    "\n",
    "Welcome to Lab 4! Over the next two labs, you will build your own song classifer using k-nearest neighbors.\n",
    "\n",
    "Lab 4 is part 1 of the investigation. Lab 5 is part 2 of the investigation. Lab 5 will be released next week.\n",
    "\n",
    "You will build a classifier that guesses whether a song is hip-hop or country, using only the numbers of times words appear in the song's lyrics.  By the end of the project, you should know how to:\n",
    "\n",
    "1. Clean and organize a dataset used to test a machine learning model\n",
    "2. Build a k-nearest neighbors classifier\n",
    "3. Test a classifier on data\n",
    "\n",
    "**Advice.** Develop your answers incrementally. To perform a complicated table manipulation, break it up into steps, perform each step on a different line, give a new name to each result, and check that each intermediate result is what you expect. You can add any additional names or functions you want to the provided cells. \n",
    "\n",
    "To get started, load `datascience`, `numpy`, `plots`, and `gofer`."
   ],
   "metadata": {}
  },
  {
   "cell_type": "code",
   "execution_count": null,
   "source": [
    "# Run this cell to set up the notebook, but please don't change it.\r\n",
    "import numpy as np\r\n",
    "import math\r\n",
    "from datascience import *\r\n",
    "\r\n",
    "# These lines set up the plotting functionality and formatting.\r\n",
    "import matplotlib\r\n",
    "matplotlib.use('Agg', warn=False)\r\n",
    "%matplotlib inline\r\n",
    "import matplotlib.pyplot as plots\r\n",
    "plots.style.use('fivethirtyeight')\r\n",
    "import warnings\r\n",
    "warnings.simplefilter(action=\"ignore\", category=FutureWarning)\r\n",
    "warnings.simplefilter('ignore', UserWarning)\r\n",
    "\r\n",
    "# These lines load the tests.\r\n",
    "from gofer.ok import check"
   ],
   "outputs": [],
   "metadata": {}
  },
  {
   "cell_type": "markdown",
   "source": [
    "# 1. The Dataset\n",
    "\n",
    "Our dataset is a table of songs, each with a name, an artist, and a genre.  We'll be trying to predict each song's genre.\n",
    "\n",
    "The only attributes we will use to predict the genre of a song are its lyrics. In particular, we have a list of just under 5,000 words that might occur in a song.  For each song, our dataset tells us the frequency with which each of these words occurs in that song. All words have been converted to lowercase.\n",
    "\n",
    "Run the cell below to read the `lyrics` table. **It may take up to a minute to load.**"
   ],
   "metadata": {}
  },
  {
   "cell_type": "code",
   "execution_count": null,
   "source": [
    "lyrics = Table.read_table('lyrics.csv')\r\n",
    "lyrics.where(\"Title\", \"In Your Eyes\").select(0, 1, 2, 3, 4, 5, \"like\", \"love\")"
   ],
   "outputs": [],
   "metadata": {}
  },
  {
   "cell_type": "markdown",
   "source": [
    "That cell prints a few columns of the row for the country song [\"In Your Eyes\" by Alison Krauss](http://www.azlyrics.com/lyrics/alisonkrauss/inyoureyes.html).  The song contains 168 words. The word \"like\" appears twice:  $\\frac{2}{168} \\approx 0.0119$ of the words in the song. The word \"love\" appears 10 times: $\\frac{10}{168} \\approx 0.0595$ of the words. The word \"the\" doesn't appear at all.\n",
    "\n",
    "Our dataset doesn't contain all information about a song.  For example, it doesn't describe the order of words in the song, let alone the melody, instruments, or rhythm. Nonetheless, you may find that word frequencies alone are sufficient to build an accurate genre classifier."
   ],
   "metadata": {}
  },
  {
   "cell_type": "markdown",
   "source": [
    "All titles are unique. The `row_for_title` function provides fast access to the one row for each title. "
   ],
   "metadata": {}
  },
  {
   "cell_type": "code",
   "execution_count": null,
   "source": [
    "def row_for_title(title):\r\n",
    "    \"\"\"Return the row for a title\r\n",
    "    \r\n",
    "    \"\"\"\r\n",
    "    lyrics.where('Title', title).row(0)"
   ],
   "outputs": [],
   "metadata": {}
  },
  {
   "cell_type": "markdown",
   "source": [
    "For example, the fastest way to find the frequency of \"love\" in the song *In Your Eyes* is to access the `'love'` item from its row."
   ],
   "metadata": {}
  },
  {
   "cell_type": "code",
   "execution_count": null,
   "source": [
    "row_for_title('In Your Eyes').item('love')"
   ],
   "outputs": [],
   "metadata": {}
  },
  {
   "cell_type": "markdown",
   "source": [
    "** Question 1.1 ** <br/>\n",
    "Set `expected_row_sum` to the number that you expect will result from summing all proportions in each row, excluding the first three columns."
   ],
   "metadata": {}
  },
  {
   "cell_type": "code",
   "execution_count": null,
   "source": [
    "# Set row_sum to a number that's the (approximate) sum of each row of word proportions.\r\n",
    "expected_row_sum = ..."
   ],
   "outputs": [],
   "metadata": {}
  },
  {
   "cell_type": "code",
   "execution_count": null,
   "source": [
    "check(\"tests/q1_1.py\")"
   ],
   "outputs": [],
   "metadata": {}
  },
  {
   "cell_type": "markdown",
   "source": [
    "Run the cell below to generate a histogram of the actual row sums. It should confirm your answer above, perhaps with a small amount of error."
   ],
   "metadata": {}
  },
  {
   "cell_type": "code",
   "execution_count": null,
   "source": [
    "# Run this cell to display a histogram of the sums of proportions in each row.\r\n",
    "# This computation might take up to a minute; you can skip it if it's too slow.\r\n",
    "Table().with_column('sums', lyrics.drop([0, 1, 2]).apply(sum)).hist(0)"
   ],
   "outputs": [],
   "metadata": {}
  },
  {
   "cell_type": "markdown",
   "source": [
    "This dataset was extracted from the [Million Song Dataset](http://labrosa.ee.columbia.edu/millionsong/). Specifically, we are using the complementary datasets from [musiXmatch](http://labrosa.ee.columbia.edu/millionsong/musixmatch) and [Last.fm](http://labrosa.ee.columbia.edu/millionsong/lastfm). \n",
    "\n",
    "The counts of common words in the lyrics for all of these songs are provided by the musiXmatch dataset (called a bag-of-words format). We converted the words to lowercase, removed the naughty ones, and converted the counts to frequencies.\n",
    "\n",
    "The Last.fm dataset contains multiple tags for each song in the Million Song Dataset. Some of the tags are genre-related, such as \"pop\", \"rock\", \"classic\", etc.  To construct the `Genre` column, we first extracted songs with Last.fm tags that included the words \"country\", or both \"hip\" and \"hop\". These songs were then cross-referenced with the musiXmatch dataset, and only songs with musixMatch lyrics were placed into our dataset. "
   ],
   "metadata": {}
  },
  {
   "cell_type": "code",
   "execution_count": null,
   "source": [
    "print('Words with frequencies:', lyrics.drop('Title', 'Artist', 'Genre').num_columns)\r\n",
    "print('Songs with genres:', lyrics.num_rows)"
   ],
   "outputs": [],
   "metadata": {}
  },
  {
   "cell_type": "markdown",
   "source": [
    "## 1.1. Word Stemming\n",
    "The columns other than Title, Artist, and Genre in the `lyrics` table are all words that appear in some of the songs in our dataset.  Some of those names have been *stemmed*, or abbreviated heuristically, in an attempt to make different [inflected](https://en.wikipedia.org/wiki/Inflection) forms of the same base word into the same string.  For example, the column \"manag\" is the sum of proportions of the words \"manage\", \"manager\", \"managed\", and \"managerial\" (and perhaps others) in each song.  \n",
    "\n",
    "Stemming makes it a little tricky to search for the words you want to use, so we have provided another table that will let you see examples of unstemmed versions of each stemmed word.  Run the code below to load it."
   ],
   "metadata": {}
  },
  {
   "cell_type": "code",
   "execution_count": null,
   "source": [
    "# Just run this cell.\r\n",
    "vocab_mapping = Table.read_table('mxm_reverse_mapping_safe.csv')\r\n",
    "stemmed = np.take(lyrics.labels, np.arange(3, len(lyrics.labels)))\r\n",
    "vocab_table = Table().with_column('Stem', stemmed).join('Stem', vocab_mapping)\r\n",
    "vocab_table.take(np.arange(1100, 1106))"
   ],
   "outputs": [],
   "metadata": {
    "scrolled": true
   }
  },
  {
   "cell_type": "markdown",
   "source": [
    "** Question 1.1.1 ** <br/>\n",
    "Assign `unchanged` to the **percentage** of words in `vocab_table` that are the same as their stemmed form (such as \"devour\" above).\n",
    "\n",
    "*Hint:* Try using `==` and comparing the number of rows in a table of only unchanged vocabulary with the number of rows in `vocab_table`."
   ],
   "metadata": {}
  },
  {
   "cell_type": "code",
   "execution_count": null,
   "source": [
    "percent_unchanged = ...\r\n",
    "print(round(percent_unchanged, 2), 'percent are unchanged')"
   ],
   "outputs": [],
   "metadata": {}
  },
  {
   "cell_type": "code",
   "execution_count": null,
   "source": [
    "check(\"tests/q1_1_1.py\")"
   ],
   "outputs": [],
   "metadata": {}
  },
  {
   "cell_type": "markdown",
   "source": [
    "** Question 1.1.2 ** <br/>\n",
    "Assign `stemmed_message` to the stemmed version of the word \"message\"."
   ],
   "metadata": {}
  },
  {
   "cell_type": "code",
   "execution_count": null,
   "source": [
    "# Set stemmed_message to the stemmed version of \"message\" (which\r\n",
    "# should be a string).  Use vocab_table.\r\n",
    "stemmed_message = ...\r\n",
    "stemmed_message"
   ],
   "outputs": [],
   "metadata": {}
  },
  {
   "cell_type": "code",
   "execution_count": null,
   "source": [
    "check(\"tests/q1_1_2.py\")"
   ],
   "outputs": [],
   "metadata": {}
  },
  {
   "cell_type": "markdown",
   "source": [
    "** Question 1.1.3 ** <br/>\n",
    "Assign `unstemmed_singl` to the word in `vocab_table` that has \"singl\" as its stemmed form. (*Note that multiple English words may stem to \"singl\", but only one example appears in `vocab_table`.*)"
   ],
   "metadata": {}
  },
  {
   "cell_type": "code",
   "execution_count": null,
   "source": [
    "# Set unstemmed_singl to the unstemmed version of \"singl\" (which\r\n",
    "# should be a string).\r\n",
    "unstemmed_singl = ...\r\n",
    "unstemmed_singl"
   ],
   "outputs": [],
   "metadata": {}
  },
  {
   "cell_type": "code",
   "execution_count": null,
   "source": [
    "check(\"tests/q1_1_3.py\")"
   ],
   "outputs": [],
   "metadata": {}
  },
  {
   "cell_type": "markdown",
   "source": [
    "## 1.2. Splitting the dataset\n",
    "We're going to use our `lyrics` dataset for two purposes.\n",
    "\n",
    "1. First, we want to *train* song genre classifiers.\n",
    "2. Second, we want to *test* the performance of our classifiers.\n",
    "\n",
    "Hence, we need two different datasets: *training* and *test*.\n",
    "\n",
    "The purpose of a classifier is to classify unseen data that is similar to the training data. Therefore, we must ensure that there are no songs that appear in both sets. We do so by splitting the dataset randomly. The dataset has already been permuted randomly, so it's easy to split.  We just take the top for training and the rest for test. \n",
    "\n",
    "Run the code below (without changing it) to separate the datasets into two tables."
   ],
   "metadata": {}
  },
  {
   "cell_type": "code",
   "execution_count": null,
   "source": [
    "# Here we have defined the proportion of our data\r\n",
    "# that we want to designate for training as 11/16ths\r\n",
    "# of our total dataset.  5/16ths of the data is\r\n",
    "# reserved for testing.\r\n",
    "\r\n",
    "training_proportion = 11/16\r\n",
    "\r\n",
    "num_songs = lyrics.num_rows\r\n",
    "num_train = int(num_songs * training_proportion)\r\n",
    "num_valid = num_songs - num_train\r\n",
    "\r\n",
    "train_lyrics = lyrics.take(np.arange(num_train))\r\n",
    "test_lyrics = lyrics.take(np.arange(num_train, num_songs))\r\n",
    "\r\n",
    "print(\"Training: \",   train_lyrics.num_rows, \";\",\r\n",
    "      \"Test: \",       test_lyrics.num_rows)"
   ],
   "outputs": [],
   "metadata": {}
  },
  {
   "cell_type": "markdown",
   "source": [
    "Run the code below to display a horizontal bar chart with two bars that show the proportion of Country songs in each dataset.  We use the function `country_proportion` to help us create the bar chart."
   ],
   "metadata": {}
  },
  {
   "cell_type": "code",
   "execution_count": null,
   "source": [
    "def country_proportion(table):\r\n",
    "    \"\"\"Return the proportion of songs in a table that have the Country genre.\"\"\"\r\n",
    "    return table.where('Genre', are.equal_to('Country')).num_rows / table.num_rows\r\n",
    "\r\n",
    "Table().with_columns(\r\n",
    "        'Dataset', make_array('Training', 'Test'),\r\n",
    "        'Proportion of Country', make_array(country_proportion(train_lyrics), country_proportion(test_lyrics)))\\\r\n",
    "       .barh('Dataset')"
   ],
   "outputs": [],
   "metadata": {
    "for_assignment_type": "student",
    "manual_problem_id": "music_1_2_1"
   }
  },
  {
   "cell_type": "markdown",
   "source": [
    "# 2. K-Nearest Neighbors - a Guided Example\n",
    "\n",
    "K-Nearest Neighbors (k-NN) is a classification algorithm.  Given some *attributes* (also called *features*) of an unseen example, it decides whether that example belongs to one or the other of two categories based on its similarity to previously seen examples. Predicting the category of an example is called *labeling*, and the predicted category is also called a *label*.\n",
    "\n",
    "An attribute (feature) we have about each song is *the proportion of times a particular word appears in the lyrics*, and the labels are two music genres: hip-hop and country.  The algorithm requires many previously seen examples for which both the attributes and labels are known: that's the `train_lyrics` table.\n",
    "\n",
    "To build understanding, we're going to visualize the algorithm instead of just describing it."
   ],
   "metadata": {}
  },
  {
   "cell_type": "markdown",
   "source": [
    "## 2.1. Classifying a  song\n",
    "\n",
    "In k-NN, we classify a song by finding the `k` songs in the *training set* that are most similar according to the features we choose. We call those songs with similar features the *nearest neighbors*.  The k-NN algorithm assigns the song to the most common category among its `k` nearest neighbors.\n",
    "\n",
    "Let's limit ourselves to just 2 features for now, so we can plot each song.  The features we will use are the proportions of the words \"like\" and \"love\" in the lyrics.  Taking the song \"In Your Eyes\" (in the test set), 0.0119 of its words are \"like\" and 0.0595 are \"love\". This song appears in the test set, so let's imagine that we don't yet know its genre.\n",
    "\n",
    "First, we need to make our notion of similarity more precise.  We will say that the *distance* between two songs is the straight-line distance between them when we plot their features in a scatter diagram. This distance is called the Euclidean (\"yoo-KLID-ee-un\") distance, whose formula is $\\sqrt{(x_1 - x_2)^2 + (y_1 - y_2)^2}$.\n",
    "\n",
    "For example, in the song *Insane in the Brain* (in the training set), 0.0203 of all the words in the song are \"like\" and 0 are \"love\".  Its distance from *In Your Eyes* on this 2-word feature set is $\\sqrt{(0.0119 - 0.0203)^2 + (0.0595 - 0)^2} \\approx 0.06$.  (If we included more or different features, the distance could be different.)\n",
    "\n",
    "A third song, *Sangria Wine* (in the training set), is 0.0044 \"like\" and 0.0925 \"love\".\n",
    "\n",
    "The function below creates a plot to display the \"like\" and \"love\" features of a test song and some training songs. As you can see in the result, *In Your Eyes* is more similar to *Sangria Wine* than to *Insane in the Brain*."
   ],
   "metadata": {}
  },
  {
   "cell_type": "code",
   "execution_count": null,
   "source": [
    "# Just run this cell.\r\n",
    "\r\n",
    "def plot_with_two_features(test_song, training_songs, x_feature, y_feature):\r\n",
    "    \"\"\"Plot a test song and training songs using two features.\"\"\"\r\n",
    "    test_row = row_for_title(test_song)\r\n",
    "    distances = Table().with_columns(\r\n",
    "            x_feature, [test_row.item(x_feature)],\r\n",
    "            y_feature, [test_row.item(y_feature)],\r\n",
    "            'Color',   ['Unknown'],\r\n",
    "            'Title',   [test_song]\r\n",
    "        )\r\n",
    "    for song in training_songs:\r\n",
    "        row = row_for_title(song)\r\n",
    "        distances.append([row.item(x_feature), row.item(y_feature), row.item('Genre'), song])\r\n",
    "    distances.scatter(x_feature, y_feature, colors='Color', labels='Title', s=200)\r\n",
    "    \r\n",
    "training = [\"Sangria Wine\", \"Insane In The Brain\"]\r\n",
    "plot_with_two_features(\"In Your Eyes\", training, \"like\", \"love\")"
   ],
   "outputs": [],
   "metadata": {}
  },
  {
   "cell_type": "markdown",
   "source": [
    "** Question 2.1.1 ** <br/>\n",
    "Compute the distance between the two country songs, *In Your Eyes* and *Sangria Wine*, using the `like` and `love` features only.  Assign it the name `country_distance`.\n",
    "\n",
    "**Note:** If you have a row object, you can use `item` to get a value from a column by its name.  For example, if `r` is a row, then `r.item(\"Genre\")` is the value in column `\"Genre\"` in row `r`.\n",
    "\n",
    "**Note 2:** You can quickly get the row from the `lyrics` table via `row_for_title`. For example, if \"Insane In The Brain\" is the song title, then `row_for_title(\"Insane In The Brain\")` is the row object for this song."
   ],
   "metadata": {}
  },
  {
   "cell_type": "code",
   "execution_count": null,
   "source": [
    "in_your_eyes = row_for_title(\"In Your Eyes\")\r\n",
    "sangria_wine = row_for_title(\"Sangria Wine\")\r\n",
    "country_distance = ...\r\n",
    "country_distance"
   ],
   "outputs": [],
   "metadata": {}
  },
  {
   "cell_type": "code",
   "execution_count": null,
   "source": [
    "check(\"tests/q2_1_1.py\")"
   ],
   "outputs": [],
   "metadata": {}
  },
  {
   "cell_type": "markdown",
   "source": [
    "The `plot_with_two_features` function can show the positions of several training songs. Below, we've added one that's even closer to *In Your Eyes*."
   ],
   "metadata": {}
  },
  {
   "cell_type": "code",
   "execution_count": null,
   "source": [
    "training = [\"Sangria Wine\", \"Lookin' for Love\", \"Insane In The Brain\"]\r\n",
    "plot_with_two_features(\"In Your Eyes\", training, \"like\", \"love\")"
   ],
   "outputs": [],
   "metadata": {}
  },
  {
   "cell_type": "markdown",
   "source": [
    "** Question 2.1.2 ** <br/>\n",
    "Complete the function `distance_two_features` that computes the Euclidean distance between any two songs, using two features. The last two lines call your function to show that *Lookin' for Love* is closer to *In Your Eyes* than *Insane In The Brain*. "
   ],
   "metadata": {}
  },
  {
   "cell_type": "code",
   "execution_count": null,
   "source": [
    "def distance_two_features(title0, title1, x_feature, y_feature):\r\n",
    "    \"\"\"Compute the distance between two songs with titles title0 and title1\r\n",
    "    \r\n",
    "    Only the features named x_feature and y_feature are used when computing the distance.\r\n",
    "    \"\"\"\r\n",
    "    row0 = ...\r\n",
    "    row1 = ...\r\n",
    "    ...\r\n",
    "\r\n",
    "for song in make_array(\"Lookin' for Love\", \"Insane In The Brain\"):\r\n",
    "    song_distance = distance_two_features(song, \"In Your Eyes\", \"like\", \"love\")\r\n",
    "    print(song, 'distance:\\t', song_distance)"
   ],
   "outputs": [],
   "metadata": {}
  },
  {
   "cell_type": "code",
   "execution_count": null,
   "source": [
    "check(\"tests/q2_1_2.py\")"
   ],
   "outputs": [],
   "metadata": {}
  },
  {
   "cell_type": "markdown",
   "source": [
    "** Question 2.1.3 ** <br/>\n",
    "Define the function `distance_from_in_your_eyes` so that it works as described in its documentation."
   ],
   "metadata": {}
  },
  {
   "cell_type": "code",
   "execution_count": null,
   "source": [
    "def distance_from_in_your_eyes(title):\r\n",
    "    \"\"\"The distance between the given song and \"In Your Eyes\", based on the features \"like\" and \"love\".\r\n",
    "    \r\n",
    "    This function takes a single argument:\r\n",
    "      title: A string, the name of a song.\r\n",
    "    \"\"\"\r\n",
    "    ..."
   ],
   "outputs": [],
   "metadata": {}
  },
  {
   "cell_type": "code",
   "execution_count": null,
   "source": [
    "check(\"tests/q2_1_3.py\")"
   ],
   "outputs": [],
   "metadata": {}
  },
  {
   "cell_type": "markdown",
   "source": [
    "#### Question 2.1.4\r\n",
    "Using the features `\"like\" and \"love\"`, what are the names and genres of the 7 songs in the **training set** closest to \"In Your Eyes\"?  To answer this question, make a table named `close_songs` containing those 7 songs with columns `\"Title\"`, `\"Artist\"`, `\"Genre\"`, `\"like\"`, and `\"love\"`, as well as a column called `\"distance\"` that contains the distance from \"In Your Eyes\".  The table should be **sorted in ascending order by `distance`**.\r\n",
    "\r\n",
    "Note: this cell will take approximately 1 minute to run"
   ],
   "metadata": {}
  },
  {
   "cell_type": "code",
   "execution_count": null,
   "source": [
    "# The staff solution took 4 lines.\r\n",
    "close_songs = ...\r\n",
    "close_songs"
   ],
   "outputs": [],
   "metadata": {
    "for_assignment_type": "student"
   }
  },
  {
   "cell_type": "code",
   "execution_count": null,
   "source": [
    "check(\"tests/q2_1_4.py\")"
   ],
   "outputs": [],
   "metadata": {}
  },
  {
   "cell_type": "markdown",
   "source": [
    "** Question 2.1.5 ** <br/>\n",
    "Define the function `most_common` so that it works as described in its documentation below."
   ],
   "metadata": {}
  },
  {
   "cell_type": "code",
   "execution_count": null,
   "source": [
    "def most_common(label, table):\r\n",
    "    \"\"\"The most common element in a column of a table.\r\n",
    "    \r\n",
    "    This function takes two arguments:\r\n",
    "      label: The label of a column, a string.\r\n",
    "      table: A table.\r\n",
    "     \r\n",
    "    It returns the most common value in that column of that table.\r\n",
    "    In case of a tie, it returns any one of the most common values\r\n",
    "    \"\"\"\r\n",
    "    ...\r\n",
    "\r\n",
    "# Calling most_common on your table of 7 nearest neighbors classifies\r\n",
    "# \"In Your Eyes\" as a country song, 4 votes to 3.\r\n",
    "most_common('Genre', close_songs)"
   ],
   "outputs": [],
   "metadata": {}
  },
  {
   "cell_type": "code",
   "execution_count": null,
   "source": [
    "check(\"tests/q2_1_5.py\")"
   ],
   "outputs": [],
   "metadata": {}
  },
  {
   "cell_type": "markdown",
   "source": [
    "Congratulations are in order -- you've classified your first song!"
   ],
   "metadata": {}
  },
  {
   "cell_type": "markdown",
   "source": [
    "## Submission"
   ],
   "metadata": {
    "collapsed": true
   }
  },
  {
   "cell_type": "markdown",
   "source": [
    "You're finished with lab 4! We'll pick off from here next week in lab 5 to finish our song classifier.\n",
    "\n",
    "In order to successfully submit your assignment, follow these steps...\n",
    "- **IMPORTANT** Before you do anything, **Save and Checkpoint** from the `File` menu. Please do this first before running the cell below,\n",
    "- **run all the tests and verify that they all pass** (the next cell has a shortcut for that), \n",
    "- **Review the notebook one last time** If you make any changes, please **Save and Checkpoint** again.\n",
    "- **Hit the Submit button** Your submission will be saved and grade will be posted when it's finished running."
   ],
   "metadata": {}
  },
  {
   "cell_type": "code",
   "execution_count": null,
   "source": [
    "# For your convenience, you can run this cell to run all the tests at once!\r\n",
    "import glob\r\n",
    "from gofer.ok import check_all\r\n",
    "display(check_all(glob.glob('tests/q*.py')))"
   ],
   "outputs": [],
   "metadata": {}
  }
 ],
 "metadata": {
  "anaconda-cloud": {},
  "course": "8x",
  "kernelspec": {
   "display_name": "Python 3",
   "language": "python",
   "name": "python3"
  },
  "lab": "lab04",
  "language_info": {
   "codemirror_mode": {
    "name": "ipython",
    "version": 3
   },
   "file_extension": ".py",
   "mimetype": "text/x-python",
   "name": "python",
   "nbconvert_exporter": "python",
   "pygments_lexer": "ipython3",
   "version": "3.7.3"
  },
  "section": "3"
 },
 "nbformat": 4,
 "nbformat_minor": 1
}