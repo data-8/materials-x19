{
 "cells": [
  {
   "cell_type": "markdown",
   "metadata": {},
   "source": [
    "## Conversion Notebook: From Data 8X's `datascience` library to SQL\n",
    "\n",
    "You have now learned how to think computationally, how to express your thoughts in a modern programming language, Python, clearly and succinctly, and how to apply this knowledge to various tasks in Data Science.  In doing so, you have come to understand what it means to *interpret* a program.  The Python interpreter is a piece of software that executes - i.e., interprets - python programs.\n",
    "\n",
    "In this notebook, we are going to build upon the concepts taught in Data 8X and utilize your understanding of `Table`s to have an intro crash course to learn a language called SQL. SQL is a language that relates to databases - most databases use SQL to query.  Formally, it performs operations defined in relational algebra. \n",
    "\n",
    "SQL is one of the most commonly used database languages. Many companies and businesses use SQL as a way to access and manipulate the data that is stored in their databases. \n",
    "\n",
    "SQL is a **declarative** language which means that you say *what* you want, not *how* to get it. We will be writing SQL queries to describe the table we want to output. This is different to Python for example, where we write code that explains how to get something. SQL queries describe the output of what we want. \n",
    "\n",
    "We will use a particular relational database management system, sqlite3, which actually stores the database in a conventional file."
   ]
  },
  {
   "cell_type": "code",
   "execution_count": 1,
   "metadata": {
    "collapsed": true
   },
   "outputs": [],
   "source": [
    "from datascience import *\n",
    "import numpy as np\n",
    "\n",
    "%matplotlib inline\n",
    "import matplotlib.pyplot as plots\n",
    "plots.style.use('fivethirtyeight')"
   ]
  },
  {
   "cell_type": "markdown",
   "metadata": {},
   "source": [
    "## SQL Query Syntax \n",
    "\n",
    "The main syntax of the SQL language consists of one very long statement.\n",
    "\n",
    "```\n",
    "SELECT [DISTINCT] <column expression list>\n",
    "   FROM <table>\n",
    "   [WHERE <predicate>]\n",
    "   [GROUP BY <column list>]\n",
    "   [HAVING <predicate>]\n",
    "   [ORDER BY <column list>]\n",
    "   [LIMIT <integer>];\n",
    "```\n",
    "\n",
    "In SQL, queries and subqueries produce a new table, as do most `Table` methods.\n",
    "\n",
    "Here's a pretty [good reference](https://www.dofactory.com/sql/syntax).  There are lots of them out there. [Here's another](http://www.zentut.com/sql-tutorial/).\n",
    "\n",
    "SQL keywords (SELECT, FROM, WHERE, etc in the query template above) are case insensitive, but convention is to use uppercase for clarity.  Column names and text values are case sensitive.\n",
    "\n",
    "For students who have come through Data8, the datascience package is very similar to SQL in terms of syntax and logic to SQL.\n",
    "\n",
    "Let's start with a `Table` example."
   ]
  },
  {
   "cell_type": "code",
   "execution_count": 2,
   "metadata": {},
   "outputs": [
    {
     "data": {
      "text/html": [
       "<table border=\"1\" class=\"dataframe\">\n",
       "    <thead>\n",
       "        <tr>\n",
       "            <th>Flavor</th> <th>Color</th> <th>Price</th>\n",
       "        </tr>\n",
       "    </thead>\n",
       "    <tbody>\n",
       "        <tr>\n",
       "            <td>strawberry</td> <td>pink       </td> <td>3.55 </td>\n",
       "        </tr>\n",
       "    </tbody>\n",
       "        <tr>\n",
       "            <td>chocolate </td> <td>light brown</td> <td>4.75 </td>\n",
       "        </tr>\n",
       "    </tbody>\n",
       "        <tr>\n",
       "            <td>chocolate </td> <td>dark brown </td> <td>5.25 </td>\n",
       "        </tr>\n",
       "    </tbody>\n",
       "        <tr>\n",
       "            <td>strawberry</td> <td>pink       </td> <td>5.25 </td>\n",
       "        </tr>\n",
       "    </tbody>\n",
       "        <tr>\n",
       "            <td>bubblegum </td> <td>pink       </td> <td>4.75 </td>\n",
       "        </tr>\n",
       "    </tbody>\n",
       "        <tr>\n",
       "            <td>chocolate </td> <td>dark brown </td> <td>5.25 </td>\n",
       "        </tr>\n",
       "    </tbody>\n",
       "</table>"
      ],
      "text/plain": [
       "Flavor     | Color       | Price\n",
       "strawberry | pink        | 3.55\n",
       "chocolate  | light brown | 4.75\n",
       "chocolate  | dark brown  | 5.25\n",
       "strawberry | pink        | 5.25\n",
       "bubblegum  | pink        | 4.75\n",
       "chocolate  | dark brown  | 5.25"
      ]
     },
     "execution_count": 2,
     "metadata": {},
     "output_type": "execute_result"
    }
   ],
   "source": [
    "# Table constructor method\n",
    "\n",
    "# An example of creating a Table from a list of rows.\n",
    "Table([\"Flavor\",\"Color\",\"Price\"]).with_rows([\n",
    "    ('strawberry','pink', 3.55),\n",
    "    ('chocolate','light brown', 4.75),\n",
    "    ('chocolate','dark brown', 5.25),\n",
    "    ('strawberry','pink',5.25),\n",
    "    ('bubblegum','pink',4.75),\n",
    "    ('chocolate','dark brown', 5.25)\n",
    "])"
   ]
  },
  {
   "cell_type": "markdown",
   "metadata": {},
   "source": [
    "# Select\n",
    "\n",
    "The basic aspect of SQL is the select statement, which returns a table.\n",
    "\n",
    "The following line of code creates a one-row Table\n",
    "```\n",
    "SELECT \"strawberry\" AS Flavor, \"pink\" AS Color, 3.55 AS Price; \n",
    "```\n",
    "\n",
    "Note - column names are always text and have no `\"` around them.\n",
    "\n",
    "To try this out, run `sqlite3` creating a database file, say `testsql`\n",
    "\n",
    "`sqlite3 testsql`\n",
    "\n",
    "This will run interactively, so you can see the results of the queries you perform.\n",
    "\n",
    "```\n",
    "ideas/sql> sqlite3 testsql.db\n",
    "SQLite version 3.13.0 2016-05-18 10:57:30\n",
    "Enter \".help\" for usage hints.\n",
    "sqlite> select \"strawberry\" as Flavor, \"pink\" as Color, 3.55 as Price;\n",
    "strawberry|pink|3.55\n",
    "sqlite>\n",
    "```\n",
    "Don't forget the \";\"\n"
   ]
  },
  {
   "cell_type": "markdown",
   "metadata": {},
   "source": [
    "## Table as Union of tables\n",
    "\n",
    "Creating a multi-row table (object) with a union of `select` statements\n",
    "```\n",
    "select \"strawberry\" as Flavor, \"pink\" as Color, 3.55 as Price union\n",
    "select \"chocolate\",\"light brown\", 4.75 union\n",
    "select \"chocolate\",\"dark brown\", 5.25 union\n",
    "select \"strawberry\",\"pink\",5.25 union\n",
    "select \"bubblegum\",\"pink\",4.75 union\n",
    "select \"strawberry\",\"pink\",5.25 union\n",
    "select \"chocolate\",\"dark brown\", 5.25;\n",
    "```"
   ]
  },
  {
   "cell_type": "markdown",
   "metadata": {},
   "source": [
    "Notice how a SQL table is a relation (meaning that each select statement above is a tuple of information that is stored as a row in the table), it is not a list.  \n",
    "\n",
    "```\n",
    "sqlite> select \"strawberry\" as Flavor, \"pink\" as Color, 3.55 as Price union\n",
    "   ...> select \"chocolate\",\"light brown\", 4.75 union\n",
    "   ...> select \"chocolate\",\"dark brown\", 5.25 union\n",
    "   ...> select \"strawberry\",\"pink\",5.25 union\n",
    "   ...> select \"bubblegum\",\"pink\",4.75 union\n",
    "   ...> select \"strawberry\",\"pink\",5.25 union\n",
    "   ...> select \"chocolate\",\"dark brown\", 5.25;\n",
    "bubblegum|pink|4.75\n",
    "chocolate|dark brown|5.25\n",
    "chocolate|light brown|4.75\n",
    "strawberry|pink|3.55\n",
    "strawberry|pink|5.25\n",
    "```\n",
    "Notice, no duplicates.  "
   ]
  },
  {
   "cell_type": "markdown",
   "metadata": {},
   "source": [
    "# Create table\n",
    "\n",
    "Let's create a version of the table that might occur in a retail setting.  We have added a column for the transaction ID.\n",
    "```\n",
    "create table cones as\n",
    "    select 1 as Id, \"strawberry\" as Flavor, \"pink\" as Color, 3.55 as Price union\n",
    "    select 2, \"chocolate\",\"light brown\", 4.75 union\n",
    "    select 3, \"chocolate\",\"dark brown\", 5.25 union\n",
    "    select 4, \"strawberry\",\"pink\",5.25 union\n",
    "    select 5, \"bubblegum\",\"pink\",4.75 union\n",
    "    select 6, \"chocolate\", \"dark brown\", 5.25;\n",
    "```"
   ]
  },
  {
   "cell_type": "markdown",
   "metadata": {},
   "source": [
    "#### sqlite3\n",
    "\n",
    "Paste that into your `sqlite3` session.  Then you can access the data.\n",
    "\n",
    "```\n",
    "sqlite> .headers on\n",
    "sqlite> select * from cones;\n",
    "ID|Flavor|Color|Price\n",
    "1|strawberry|pink|3.55\n",
    "2|chocolate|light brown|4.75\n",
    "3|chocolate|dark brown|5.25\n",
    "4|strawberry|pink|5.25\n",
    "5|bubblegum|pink|4.75\n",
    "6|chocolate|dark brown|5.25\n",
    "sqlite> \n",
    "```"
   ]
  },
  {
   "cell_type": "code",
   "execution_count": 3,
   "metadata": {},
   "outputs": [
    {
     "data": {
      "text/html": [
       "<table border=\"1\" class=\"dataframe\">\n",
       "    <thead>\n",
       "        <tr>\n",
       "            <th>Id</th> <th>Flavor</th> <th>Color</th> <th>Price</th>\n",
       "        </tr>\n",
       "    </thead>\n",
       "    <tbody>\n",
       "        <tr>\n",
       "            <td>1   </td> <td>strawberry</td> <td>pink       </td> <td>3.55 </td>\n",
       "        </tr>\n",
       "    </tbody>\n",
       "        <tr>\n",
       "            <td>2   </td> <td>chocolate </td> <td>light brown</td> <td>4.75 </td>\n",
       "        </tr>\n",
       "    </tbody>\n",
       "        <tr>\n",
       "            <td>3   </td> <td>chocolate </td> <td>dark brown </td> <td>5.25 </td>\n",
       "        </tr>\n",
       "    </tbody>\n",
       "        <tr>\n",
       "            <td>4   </td> <td>strawberry</td> <td>pink       </td> <td>5.25 </td>\n",
       "        </tr>\n",
       "    </tbody>\n",
       "        <tr>\n",
       "            <td>5   </td> <td>bubblegum </td> <td>pink       </td> <td>4.75 </td>\n",
       "        </tr>\n",
       "    </tbody>\n",
       "        <tr>\n",
       "            <td>6   </td> <td>chocolate </td> <td>dark brown </td> <td>5.25 </td>\n",
       "        </tr>\n",
       "    </tbody>\n",
       "</table>"
      ],
      "text/plain": [
       "Id   | Flavor     | Color       | Price\n",
       "1    | strawberry | pink        | 3.55\n",
       "2    | chocolate  | light brown | 4.75\n",
       "3    | chocolate  | dark brown  | 5.25\n",
       "4    | strawberry | pink        | 5.25\n",
       "5    | bubblegum  | pink        | 4.75\n",
       "6    | chocolate  | dark brown  | 5.25"
      ]
     },
     "execution_count": 3,
     "metadata": {},
     "output_type": "execute_result"
    }
   ],
   "source": [
    "# Create a Table and assign it to a variable\n",
    "\n",
    "cones = Table([\"Id\", \"Flavor\",\"Color\",\"Price\"]).with_rows([\n",
    "    (1, 'strawberry','pink', 3.55),\n",
    "    (2, 'chocolate','light brown', 4.75),\n",
    "    (3, 'chocolate','dark brown', 5.25),\n",
    "    (4, 'strawberry','pink',5.25),\n",
    "    (5, 'bubblegum','pink',4.75),\n",
    "    (6, 'chocolate','dark brown', 5.25)\n",
    "])\n",
    "cones"
   ]
  },
  {
   "cell_type": "markdown",
   "metadata": {},
   "source": [
    "## Tables in a database\n",
    "\n",
    "The sqlite3 command line provides pseudo-ops (which are special types of commands) to explore the tables in the database. In the following code chunks, we can see what the existing tables are and the schema of our database (schema is the structure of our database and describes how the tables are created and with what columns).\n",
    "\n",
    "```\n",
    "sqlite> .tables\n",
    "cones\n",
    "sqlite> .schema cones\n",
    "CREATE TABLE cones(\n",
    "  Id,\n",
    "  Flavor,\n",
    "  Color,\n",
    "  Price\n",
    ");\n",
    "```\n",
    "SQL also provides table management operations, besides `CREATE`.\n",
    "\n",
    "```\n",
    "sqlite> drop table cones;\n",
    "sqlite> .tables\n",
    "```"
   ]
  },
  {
   "cell_type": "markdown",
   "metadata": {},
   "source": [
    "## Creating a table and its schema\n",
    "\n",
    "While it is possible to create a table and fill it in, as in the example above, in most database settings tables are permanent objects that are created and then repeatedly accessed and modified.\n",
    "\n",
    "To create an empty table and specify its schema:\n",
    "\n",
    "```\n",
    "CREATE TABLE cones (Id INT, Flavor TEXT, Color TEXT, Price REAL);\n",
    "```\n",
    "Then it can be filled in with `INSERT` statements."
   ]
  },
  {
   "cell_type": "markdown",
   "metadata": {},
   "source": [
    "## Insert\n",
    "\n",
    "To insert a row into a table, you need to specify three things:\n",
    "\n",
    "* The table, which you want to insert a new row, in the INSERT INTO clause.\n",
    "* a comma-separated list of columns in the table surrounded by parentheses.\n",
    "* a comma-separated list of values surrounded by parentheses in the VALUES clause.\n",
    "\n",
    "```\n",
    "INSERT INTO table(column1, column2,...)\n",
    "VALUES (value1, value2,...);\n",
    "```\n",
    "For example, to fill out our cones table creation:\n",
    "\n",
    "```\n",
    "INSERT INTO cones VALUES (1, \"strawberry\", \"pink\", 3.55);\n",
    "INSERT INTO cones VALUES (2, \"chocolate\",\"light brown\", 4.75);\n",
    "INSERT INTO cones VALUES (3, \"chocolate\",\"dark brown\", 5.25);\n",
    "INSERT INTO cones VALUES (4, \"strawberry\",\"pink\",5.25);\n",
    "INSERT INTO cones VALUES (5, \"bubblegum\",\"pink\",4.75);\n",
    "INSERT INTO cones VALUES (6, \"chocolate\", \"dark brown\", 5.25);\n",
    "```\n",
    "\n",
    "Individual columns-value relationships can be specified too.\n",
    "\n",
    "```\n",
    "insert into cones(Id, Flavor, Color, Price) values (7, \"Vanila\", \"White\", 3.95);\n",
    "```\n",
    "\n",
    "Columns where data is not inserted are filled with `null`.\n",
    "\n",
    "```\n",
    "sqlite> insert into cones(Flavor, Price) values (\"Vanila\", 2.25);\n",
    "sqlite> select * from cones;\n",
    "Id|Flavor|Color|Price\n",
    "1|strawberry|pink|3.55\n",
    "2|chocolate|light brown|4.75\n",
    "3|chocolate|dark brown|5.25\n",
    "4|strawberry|pink|5.25\n",
    "5|bubblegum|pink|4.75\n",
    "6|chocolate|dark brown|5.25\n",
    "7|Vanila|White|3.95\n",
    "|Vanila||2.25\n",
    "\n",
    "```"
   ]
  },
  {
   "cell_type": "code",
   "execution_count": 4,
   "metadata": {},
   "outputs": [
    {
     "data": {
      "text/html": [
       "<table border=\"1\" class=\"dataframe\">\n",
       "    <thead>\n",
       "        <tr>\n",
       "            <th>Id</th> <th>Flavor</th> <th>Color</th> <th>Price</th>\n",
       "        </tr>\n",
       "    </thead>\n",
       "    <tbody>\n",
       "        <tr>\n",
       "            <td>1   </td> <td>strawberry</td> <td>pink       </td> <td>3.55 </td>\n",
       "        </tr>\n",
       "    </tbody>\n",
       "        <tr>\n",
       "            <td>2   </td> <td>chocolate </td> <td>light brown</td> <td>4.75 </td>\n",
       "        </tr>\n",
       "    </tbody>\n",
       "        <tr>\n",
       "            <td>3   </td> <td>chocolate </td> <td>dark brown </td> <td>5.25 </td>\n",
       "        </tr>\n",
       "    </tbody>\n",
       "        <tr>\n",
       "            <td>4   </td> <td>strawberry</td> <td>pink       </td> <td>5.25 </td>\n",
       "        </tr>\n",
       "    </tbody>\n",
       "        <tr>\n",
       "            <td>5   </td> <td>bubblegum </td> <td>pink       </td> <td>4.75 </td>\n",
       "        </tr>\n",
       "    </tbody>\n",
       "        <tr>\n",
       "            <td>6   </td> <td>chocolate </td> <td>dark brown </td> <td>5.25 </td>\n",
       "        </tr>\n",
       "    </tbody>\n",
       "        <tr>\n",
       "            <td>7   </td> <td>Vanila    </td> <td>White      </td> <td>3.95 </td>\n",
       "        </tr>\n",
       "    </tbody>\n",
       "</table>"
      ],
      "text/plain": [
       "Id   | Flavor     | Color       | Price\n",
       "1    | strawberry | pink        | 3.55\n",
       "2    | chocolate  | light brown | 4.75\n",
       "3    | chocolate  | dark brown  | 5.25\n",
       "4    | strawberry | pink        | 5.25\n",
       "5    | bubblegum  | pink        | 4.75\n",
       "6    | chocolate  | dark brown  | 5.25\n",
       "7    | Vanila     | White       | 3.95"
      ]
     },
     "execution_count": 4,
     "metadata": {},
     "output_type": "execute_result"
    }
   ],
   "source": [
    "cones.append((7, \"Vanila\", \"White\", 3.95))\n",
    "cones"
   ]
  },
  {
   "cell_type": "markdown",
   "metadata": {},
   "source": [
    "## Ordering\n",
    "\n",
    "In addition to the set of records in a table, one often would like to order them in a particular away.  You've seen this with `Table.sort`."
   ]
  },
  {
   "cell_type": "code",
   "execution_count": 5,
   "metadata": {},
   "outputs": [
    {
     "data": {
      "text/html": [
       "<table border=\"1\" class=\"dataframe\">\n",
       "    <thead>\n",
       "        <tr>\n",
       "            <th>Id</th> <th>Flavor</th> <th>Color</th> <th>Price</th>\n",
       "        </tr>\n",
       "    </thead>\n",
       "    <tbody>\n",
       "        <tr>\n",
       "            <td>1   </td> <td>strawberry</td> <td>pink       </td> <td>3.55 </td>\n",
       "        </tr>\n",
       "    </tbody>\n",
       "        <tr>\n",
       "            <td>7   </td> <td>Vanila    </td> <td>White      </td> <td>3.95 </td>\n",
       "        </tr>\n",
       "    </tbody>\n",
       "        <tr>\n",
       "            <td>2   </td> <td>chocolate </td> <td>light brown</td> <td>4.75 </td>\n",
       "        </tr>\n",
       "    </tbody>\n",
       "        <tr>\n",
       "            <td>5   </td> <td>bubblegum </td> <td>pink       </td> <td>4.75 </td>\n",
       "        </tr>\n",
       "    </tbody>\n",
       "        <tr>\n",
       "            <td>3   </td> <td>chocolate </td> <td>dark brown </td> <td>5.25 </td>\n",
       "        </tr>\n",
       "    </tbody>\n",
       "        <tr>\n",
       "            <td>4   </td> <td>strawberry</td> <td>pink       </td> <td>5.25 </td>\n",
       "        </tr>\n",
       "    </tbody>\n",
       "        <tr>\n",
       "            <td>6   </td> <td>chocolate </td> <td>dark brown </td> <td>5.25 </td>\n",
       "        </tr>\n",
       "    </tbody>\n",
       "</table>"
      ],
      "text/plain": [
       "Id   | Flavor     | Color       | Price\n",
       "1    | strawberry | pink        | 3.55\n",
       "7    | Vanila     | White       | 3.95\n",
       "2    | chocolate  | light brown | 4.75\n",
       "5    | bubblegum  | pink        | 4.75\n",
       "3    | chocolate  | dark brown  | 5.25\n",
       "4    | strawberry | pink        | 5.25\n",
       "6    | chocolate  | dark brown  | 5.25"
      ]
     },
     "execution_count": 5,
     "metadata": {},
     "output_type": "execute_result"
    }
   ],
   "source": [
    "# Tables have an explicit order, which can be controlled\n",
    "cones.sort('Price')"
   ]
  },
  {
   "cell_type": "markdown",
   "metadata": {},
   "source": [
    "The `select` statement has an `ORDER BY` clause. We write \"ORDER BY\" and then the column that we would like to sort our table by. Automatically, SQL chooses to sort in ascending order but we can do descending by specifying `DESC` after our column name.\n",
    "\n",
    "```\n",
    "SELECT * FROM cones ORDER BY Price;\n",
    "```\n",
    "<hr>\n",
    "```\n",
    "sqlite> select * from cones order by Price;\n",
    "1|strawberry|pink|3.55\n",
    "2|chocolate|light brown|4.75\n",
    "5|bubblegum|pink|4.75\n",
    "3|chocolate|dark brown|5.25\n",
    "4|strawberry|pink|5.25\n",
    "6|chocolate|dark brown|5.25\n",
    "sqlite> 6|chocolate|dark brown|5.25\n",
    "```"
   ]
  },
  {
   "cell_type": "markdown",
   "metadata": {},
   "source": [
    "# Selecting columns - Projection\n",
    "\n",
    "By default, operations on tables refer to *all* the columns.\n",
    "One can *select* certain columns however, by naming out the specific column in the SELECT statement (instead of using a `*`).\n",
    "\n",
    "```\n",
    "SELECT <columns expr> FROM <table>;\n",
    "```"
   ]
  },
  {
   "cell_type": "code",
   "execution_count": 6,
   "metadata": {},
   "outputs": [
    {
     "data": {
      "text/html": [
       "<table border=\"1\" class=\"dataframe\">\n",
       "    <thead>\n",
       "        <tr>\n",
       "            <th>Flavor</th> <th>Price</th>\n",
       "        </tr>\n",
       "    </thead>\n",
       "    <tbody>\n",
       "        <tr>\n",
       "            <td>strawberry</td> <td>3.55 </td>\n",
       "        </tr>\n",
       "    </tbody>\n",
       "        <tr>\n",
       "            <td>chocolate </td> <td>4.75 </td>\n",
       "        </tr>\n",
       "    </tbody>\n",
       "        <tr>\n",
       "            <td>chocolate </td> <td>5.25 </td>\n",
       "        </tr>\n",
       "    </tbody>\n",
       "        <tr>\n",
       "            <td>strawberry</td> <td>5.25 </td>\n",
       "        </tr>\n",
       "    </tbody>\n",
       "        <tr>\n",
       "            <td>bubblegum </td> <td>4.75 </td>\n",
       "        </tr>\n",
       "    </tbody>\n",
       "        <tr>\n",
       "            <td>chocolate </td> <td>5.25 </td>\n",
       "        </tr>\n",
       "    </tbody>\n",
       "        <tr>\n",
       "            <td>Vanila    </td> <td>3.95 </td>\n",
       "        </tr>\n",
       "    </tbody>\n",
       "</table>"
      ],
      "text/plain": [
       "Flavor     | Price\n",
       "strawberry | 3.55\n",
       "chocolate  | 4.75\n",
       "chocolate  | 5.25\n",
       "strawberry | 5.25\n",
       "bubblegum  | 4.75\n",
       "chocolate  | 5.25\n",
       "Vanila     | 3.95"
      ]
     },
     "execution_count": 6,
     "metadata": {},
     "output_type": "execute_result"
    }
   ],
   "source": [
    "cones.select(['Flavor', 'Price'])"
   ]
  },
  {
   "cell_type": "markdown",
   "metadata": {},
   "source": [
    "## SELECT from table\n",
    "\n",
    "The `SELECT` statement specifies the table explicitly.  (It's not a method on an object.  The database keeps track of all the tables.)\n",
    "\n",
    "Specify the columns to select\n",
    "\n",
    "```\n",
    "SELECT <column names or expr> FROM <table name>;\n",
    "```\n",
    "<hr>\n",
    "```\n",
    "sqlite> .headers on\n",
    "sqlite> select Flavor, Price from cones;\n",
    "Flavor|Price\n",
    "strawberry|3.55\n",
    "chocolate|4.75\n",
    "chocolate|5.25\n",
    "strawberry|5.25\n",
    "bubblegum|4.75\n",
    "chocolate|5.25\n",
    "\n",
    "```\n",
    "\n",
    "We can also do expression selection, essentially doing math in our SELECT statement. For example, let's say we want the prices to double in our table:\n",
    "\n",
    "```\n",
    "sqlite> .headers on\n",
    "sqlite> select Flavor, 2 * Price from cones;\n",
    "Flavor|Price\n",
    "strawberry|7.10\n",
    "chocolate|9.50\n",
    "chocolate|10.50\n",
    "strawberry|10.50\n",
    "bubblegum|9.50\n",
    "chocolate|10.50\n",
    "\n",
    "```\n"
   ]
  },
  {
   "cell_type": "markdown",
   "metadata": {},
   "source": [
    "## Permanent data\n",
    "\n",
    "Quit sqlite3 with the `.quit` pseudo command. Then start it up again on the same database.  Notice how everything is still there."
   ]
  },
  {
   "cell_type": "markdown",
   "metadata": {},
   "source": [
    "## Filtering rows - where"
   ]
  },
  {
   "cell_type": "code",
   "execution_count": 8,
   "metadata": {},
   "outputs": [
    {
     "data": {
      "text/html": [
       "<table border=\"1\" class=\"dataframe\">\n",
       "    <thead>\n",
       "        <tr>\n",
       "            <th>Id</th> <th>Flavor</th> <th>Color</th> <th>Price</th>\n",
       "        </tr>\n",
       "    </thead>\n",
       "    <tbody>\n",
       "        <tr>\n",
       "            <td>2   </td> <td>chocolate</td> <td>light brown</td> <td>4.75 </td>\n",
       "        </tr>\n",
       "    </tbody>\n",
       "        <tr>\n",
       "            <td>3   </td> <td>chocolate</td> <td>dark brown </td> <td>5.25 </td>\n",
       "        </tr>\n",
       "    </tbody>\n",
       "        <tr>\n",
       "            <td>6   </td> <td>chocolate</td> <td>dark brown </td> <td>5.25 </td>\n",
       "        </tr>\n",
       "    </tbody>\n",
       "</table>"
      ],
      "text/plain": [
       "Id   | Flavor    | Color       | Price\n",
       "2    | chocolate | light brown | 4.75\n",
       "3    | chocolate | dark brown  | 5.25\n",
       "6    | chocolate | dark brown  | 5.25"
      ]
     },
     "execution_count": 8,
     "metadata": {},
     "output_type": "execute_result"
    }
   ],
   "source": [
    "# Here's the simple equality filter in Tables\n",
    "\n",
    "cones.where('Flavor', 'chocolate')"
   ]
  },
  {
   "cell_type": "markdown",
   "metadata": {},
   "source": [
    "### SQL where clause\n",
    "\n",
    "By default, `SELECT` operations on tables refer to *all* the rows.\n",
    "One can operate on a subset of the rows by specifying a predicate expression in the `WHERE` clause.\n",
    "\n",
    "```\n",
    "SELECT <column names or expr> \n",
    "FROM <table name>\n",
    "WHERE <condition>;\n",
    "```\n",
    "<hr>\n",
    "\n",
    "```\n",
    "sqlite> select * from cones where Flavor = \"chocolate\";\n",
    "ID|Flavor|Color|Price\n",
    "2|chocolate|light brown|4.75\n",
    "3|chocolate|dark brown|5.25\n",
    "6|chocolate|dark brown|5.25\n",
    "```"
   ]
  },
  {
   "cell_type": "code",
   "execution_count": null,
   "metadata": {
    "collapsed": true
   },
   "outputs": [],
   "source": [
    "# Or an expression that produces a boolean array\n",
    "cones.where(cones[\"Price\"] > 5)"
   ]
  },
  {
   "cell_type": "markdown",
   "metadata": {},
   "source": [
    "### SQL:\n",
    "\n",
    "```\n",
    "sqlite> select * from cones where Price > 5;\n",
    "ID|Flavor|Color|Price\n",
    "3|chocolate|dark brown|5.25\n",
    "4|strawberry|pink|5.25\n",
    "6|chocolate|dark brown|5.25\n",
    "```"
   ]
  },
  {
   "cell_type": "markdown",
   "metadata": {},
   "source": [
    "### Approximate match\n",
    "\n",
    "Regular expression matches are so common that they are built in in SQL.\n",
    "\n",
    "```\n",
    "sqlite> select * from cones where Flavor like \"%berry%\";\n",
    "Flavor|Color|Price\n",
    "strawberry|pink|3.55\n",
    "strawberry|pink|5.25\n",
    "sqlite> \n",
    "```"
   ]
  },
  {
   "cell_type": "markdown",
   "metadata": {},
   "source": [
    "## SQL Boolean operators\n",
    "\n",
    "There are many operators that you can use in SQL.\n",
    "An operator is a word or character that is used in an SQL statement to perform operation(s), like comparisons and arithmetic operations.\n",
    "\n",
    "SQLite understands the following binary operators, in order from highest to lowest precedence:\n",
    "```\n",
    "||\n",
    "*    /    %\n",
    "+    -\n",
    "<<   >>   &    |\n",
    "<    <=   >    >=\n",
    "=    ==   !=   <>   IS   IS NOT   IN   LIKE   GLOB   MATCH   REGEXP\n",
    "AND   \n",
    "OR\n",
    "```\n",
    "Supported unary prefix operators are these:\n",
    "```\n",
    "-    +    ~    NOT\n",
    "```"
   ]
  },
  {
   "cell_type": "markdown",
   "metadata": {},
   "source": [
    "# Grouping and Aggregation\n",
    "\n",
    "The  GROUP BY clause is used to group rows of SELECT statement into a set of summary rows or groups based on values of columns or expressions. \n",
    "\n",
    "Apply an aggregate function, such as SUM, AVG, MIN, MAX or COUNT, to each group to output the summary information.\n",
    "\n",
    "```\n",
    "SELECT <expr> \n",
    "FROM <table name> \n",
    "WHERE <cond> \n",
    "GROUP BY <grouping>;\n",
    "```\n",
    "<hr>\n",
    "\n",
    "You have been applying aggregation functions to \"groups\" of rows.  "
   ]
  },
  {
   "cell_type": "code",
   "execution_count": 9,
   "metadata": {},
   "outputs": [
    {
     "data": {
      "text/html": [
       "<table border=\"1\" class=\"dataframe\">\n",
       "    <thead>\n",
       "        <tr>\n",
       "            <th>Flavor</th> <th>count</th>\n",
       "        </tr>\n",
       "    </thead>\n",
       "    <tbody>\n",
       "        <tr>\n",
       "            <td>Vanila    </td> <td>1    </td>\n",
       "        </tr>\n",
       "    </tbody>\n",
       "        <tr>\n",
       "            <td>bubblegum </td> <td>1    </td>\n",
       "        </tr>\n",
       "    </tbody>\n",
       "        <tr>\n",
       "            <td>chocolate </td> <td>3    </td>\n",
       "        </tr>\n",
       "    </tbody>\n",
       "        <tr>\n",
       "            <td>strawberry</td> <td>2    </td>\n",
       "        </tr>\n",
       "    </tbody>\n",
       "</table>"
      ],
      "text/plain": [
       "Flavor     | count\n",
       "Vanila     | 1\n",
       "bubblegum  | 1\n",
       "chocolate  | 3\n",
       "strawberry | 2"
      ]
     },
     "execution_count": 9,
     "metadata": {},
     "output_type": "execute_result"
    }
   ],
   "source": [
    "# By default Tables aggregate with count\n",
    "cones.group('Flavor')"
   ]
  },
  {
   "cell_type": "markdown",
   "metadata": {},
   "source": [
    "The analogous SQL has a `group by` clause in the select statement.  The value expression specifies what aggregation operation to perform on the groups.\n",
    "\n",
    "```\n",
    "sqlite> select count(Price), Flavor from cones group by Flavor;\n",
    "count(Price)|Flavor\n",
    "1|bubblegum\n",
    "2|chocolate\n",
    "2|strawberry\n",
    "```"
   ]
  },
  {
   "cell_type": "code",
   "execution_count": 10,
   "metadata": {},
   "outputs": [
    {
     "data": {
      "text/html": [
       "<table border=\"1\" class=\"dataframe\">\n",
       "    <thead>\n",
       "        <tr>\n",
       "            <th>Flavor</th> <th>Id min</th> <th>Color min</th> <th>Price min</th>\n",
       "        </tr>\n",
       "    </thead>\n",
       "    <tbody>\n",
       "        <tr>\n",
       "            <td>Vanila    </td> <td>7     </td> <td>White     </td> <td>3.95     </td>\n",
       "        </tr>\n",
       "    </tbody>\n",
       "        <tr>\n",
       "            <td>bubblegum </td> <td>5     </td> <td>pink      </td> <td>4.75     </td>\n",
       "        </tr>\n",
       "    </tbody>\n",
       "        <tr>\n",
       "            <td>chocolate </td> <td>2     </td> <td>dark brown</td> <td>4.75     </td>\n",
       "        </tr>\n",
       "    </tbody>\n",
       "        <tr>\n",
       "            <td>strawberry</td> <td>1     </td> <td>pink      </td> <td>3.55     </td>\n",
       "        </tr>\n",
       "    </tbody>\n",
       "</table>"
      ],
      "text/plain": [
       "Flavor     | Id min | Color min  | Price min\n",
       "Vanila     | 7      | White      | 3.95\n",
       "bubblegum  | 5      | pink       | 4.75\n",
       "chocolate  | 2      | dark brown | 4.75\n",
       "strawberry | 1      | pink       | 3.55"
      ]
     },
     "execution_count": 10,
     "metadata": {},
     "output_type": "execute_result"
    }
   ],
   "source": [
    "# You can specify how to aggregate\n",
    "cones.group('Flavor', min)"
   ]
  },
  {
   "cell_type": "code",
   "execution_count": 11,
   "metadata": {},
   "outputs": [
    {
     "data": {
      "text/html": [
       "<table border=\"1\" class=\"dataframe\">\n",
       "    <thead>\n",
       "        <tr>\n",
       "            <th>Flavor</th> <th>Price mean</th>\n",
       "        </tr>\n",
       "    </thead>\n",
       "    <tbody>\n",
       "        <tr>\n",
       "            <td>Vanila    </td> <td>3.95      </td>\n",
       "        </tr>\n",
       "    </tbody>\n",
       "        <tr>\n",
       "            <td>bubblegum </td> <td>4.75      </td>\n",
       "        </tr>\n",
       "    </tbody>\n",
       "        <tr>\n",
       "            <td>chocolate </td> <td>5.08333   </td>\n",
       "        </tr>\n",
       "    </tbody>\n",
       "        <tr>\n",
       "            <td>strawberry</td> <td>4.4       </td>\n",
       "        </tr>\n",
       "    </tbody>\n",
       "</table>"
      ],
      "text/plain": [
       "Flavor     | Price mean\n",
       "Vanila     | 3.95\n",
       "bubblegum  | 4.75\n",
       "chocolate  | 5.08333\n",
       "strawberry | 4.4"
      ]
     },
     "execution_count": 11,
     "metadata": {},
     "output_type": "execute_result"
    }
   ],
   "source": [
    "# And select the meaningful columns\n",
    "cones.select(['Flavor', 'Price']).group('Flavor', np.mean)"
   ]
  },
  {
   "cell_type": "markdown",
   "metadata": {},
   "source": [
    "### SQL GROUP BY built in operators in the column expression\n",
    "\n",
    "```\n",
    "sqlite> select min(Price), Flavor from cones group by Flavor;\n",
    "min(Price)|Flavor\n",
    "4.75|bubblegum\n",
    "4.75|chocolate\n",
    "3.55|strawberry\n",
    "\n",
    "sqlite> select avg(Price), Flavor from cones group by Flavor;\n",
    "avg(Price)|Flavor\n",
    "4.75|bubblegum\n",
    "5.0|chocolate\n",
    "4.4|strawberry\n",
    "sqlite> \n",
    "```"
   ]
  },
  {
   "cell_type": "markdown",
   "metadata": {},
   "source": [
    "### GROUP operators\n",
    "\n",
    "The following are the most commonly used SQL aggregate functions:\n",
    "\n",
    "* AVG – calculates the average of a set of values.\n",
    "* COUNT – counts rows in a specified table or view.\n",
    "* MIN – gets the minimum value in a set of values.\n",
    "* MAX – gets the maximum value in a set of values.\n",
    "* SUM – calculates the sum of values.\n",
    "\n",
    "Notice that all aggregate functions above ignore NULL values except for the COUNT function."
   ]
  },
  {
   "cell_type": "markdown",
   "metadata": {},
   "source": [
    "\n",
    "```\n",
    "sqlite> .header on\n",
    "sqlite> select Color, max(Price) - min(Price) from cones group by Color;\n",
    "Color|max(Price) - min(Price)\n",
    "dark brown|0.0\n",
    "light brown|0.0\n",
    "pink|1.7\n",
    "```"
   ]
  },
  {
   "cell_type": "markdown",
   "metadata": {},
   "source": [
    "## Unique values\n",
    "\n",
    "Being able to determine the unique values in a column or collection of columns in common enough working with data that SQL builds it in.  This is a different sort of aggregation that does not involve groups.\n",
    "\n",
    "```\n",
    "select distinct Flavor from cones;\n",
    "select distinct Flavor, Color from cones;\n",
    "```"
   ]
  },
  {
   "cell_type": "code",
   "execution_count": null,
   "metadata": {
    "collapsed": true
   },
   "outputs": [],
   "source": [
    "np.unique(cones['Flavor'])"
   ]
  },
  {
   "cell_type": "code",
   "execution_count": null,
   "metadata": {
    "collapsed": true
   },
   "outputs": [],
   "source": [
    "cones.groups(['Flavor', 'Color']).drop('count')"
   ]
  },
  {
   "cell_type": "markdown",
   "metadata": {},
   "source": [
    "## Joining multiple tables\n",
    "\n",
    "Information in different tables can be brought together using *join* operations.  You've had a lot of experience with this already.\n",
    "\n",
    "Let's imagine that there was another table associated with the cashier's transations."
   ]
  },
  {
   "cell_type": "code",
   "execution_count": null,
   "metadata": {
    "collapsed": true
   },
   "outputs": [],
   "source": [
    "sales = Table(['Cashier', 'Tid']).with_rows([\n",
    "    ('Baskin', 1),\n",
    "    ('Robin', 2),\n",
    "    ('Baskin', 3),\n",
    "    ('Baskin', 4),\n",
    "    ('Robin', 5),\n",
    "    ('Robin', 6)\n",
    "])\n",
    "sales"
   ]
  },
  {
   "cell_type": "markdown",
   "metadata": {},
   "source": [
    "### SQL - create a similar table\n",
    "\n",
    "```\n",
    "create table sales as\n",
    "    select \"Baskin\" as Cashier, 1 as Tid union\n",
    "    select \"Baskin\", 3 union\n",
    "    select \"Baskin\", 4 union\n",
    "    select \"Robin\", 2 union\n",
    "    select \"Robin\", 5 union\n",
    "    select \"Robin\", 6;\n",
    "```\n",
    "Paste this into sqlite3\n",
    "```\n",
    "sqlite> .tables\n",
    "cones  sales\n",
    "sqlite> select * from sales;\n",
    "Cashier|Tid\n",
    "Baskin|1\n",
    "Baskin|3\n",
    "Baskin|4\n",
    "Robin|2\n",
    "Robin|5\n",
    "Robin|6\n",
    "sqlite> \n",
    "```"
   ]
  },
  {
   "cell_type": "code",
   "execution_count": null,
   "metadata": {
    "collapsed": true
   },
   "outputs": [],
   "source": [
    "# The JOIN of these two tables around their related columns\n",
    "sales.join('Tid', cones, 'Id')"
   ]
  },
  {
   "cell_type": "markdown",
   "metadata": {},
   "source": [
    "## SQL join \n",
    "\n",
    "In SQL the join operation is easily expressed by multiple `FROM` tables, but it is not the same as the \"inner join\" you are familiar with.\n",
    "\n",
    "```\n",
    "SELECT * FROM sales, cones;\n",
    "```\n",
    "produces the cross-product (outer join) of all the rows of `sales` and the rows of `cones`.  We want the ones with matching `Id`'s.  This is expressed through the `WHERE` clause.\n",
    "\n",
    "```\n",
    "SELECT * FROM sales, cones WHERE Tid=Id;\n",
    "```\n",
    "\n",
    "Try it out.\n",
    "\n",
    "```\n",
    "sqlite> .tables\n",
    "cones  sales\n",
    "sqlite> SELECT * FROM sales, cones WHERE Tid=Id;\n",
    "Cashier|Tid|Id|Flavor|Color|Price\n",
    "Baskin|1|1|strawberry|pink|3.55\n",
    "Baskin|3|3|chocolate|dark brown|5.25\n",
    "Baskin|4|4|strawberry|pink|5.25\n",
    "Robin|2|2|chocolate|light brown|4.75\n",
    "Robin|5|5|bubblegum|pink|4.75\n",
    "Robin|6|6|chocolate|dark brown|5.25\n",
    "sqlite> \n",
    "```"
   ]
  },
  {
   "cell_type": "markdown",
   "metadata": {},
   "source": [
    "#### Refining the join description\n",
    "\n",
    "The names of tables can be used to disambiguate, say if the columns have the same names in different tables.\n",
    "\n",
    "```\n",
    "select * from sales, cones where sales.Tid=cones.Id;\n",
    "```\n",
    "\n",
    "And, we can tailor the result with the expression.\n",
    "\n",
    "```\n",
    "select Flavor, Color, Price, Cashier, Id from sales, cones where sales.Tid=cones.Id;\n",
    "```\n",
    "\n",
    "And we could create this as a new, permanent table.\n",
    "\n",
    "```\n",
    "create table full as \n",
    "    select Flavor, Color, Price, Cashier, ID from sales, cones where sales.Tid=cones.Id;\n",
    "```"
   ]
  },
  {
   "cell_type": "markdown",
   "metadata": {},
   "source": [
    "## Creating and dropping tables\n",
    "\n",
    "```\n",
    "DROP TABLE <table name>\n",
    "```\n",
    "For example, create a new table of the join and drop it.\n",
    "\n",
    "```\n",
    "sqlite> create table full as \n",
    "   ...>     select Flavor, Color, Price, Cashier, ID from sales, cones where sales.TID=cones.ID;\n",
    "sqlite> .tables\n",
    "cones  full   sales\n",
    "sqlite> select * from full;\n",
    "Flavor|Color|Price|Cashier|ID\n",
    "strawberry|pink|3.55|Baskin|1\n",
    "chocolate|dark brown|5.25|Baskin|3\n",
    "strawberry|pink|5.25|Baskin|4\n",
    "chocolate|light brown|4.75|Robin|2\n",
    "bubblegum|pink|4.75|Robin|5\n",
    "chocolate|dark brown|5.25|Robin|6\n",
    "```\n",
    "\n",
    "```\n",
    "sqlite> drop table full;\n",
    "sqlite> .tables\n",
    "cones  sales\n",
    "```"
   ]
  },
  {
   "cell_type": "markdown",
   "metadata": {},
   "source": [
    "## Naming result columns\n",
    "\n",
    "```\n",
    "SELECT <expr> as <name> FROM <tables> WHERE <c-expr> GROUP BY <g-expr>\n",
    "\n",
    "```\n",
    "Create a table with a `Taste` column with two values: \"delicious\" and \"other\".\n",
    "\n",
    "```\n",
    "select \"delicious\" as Taste, Flavor, Color from cones where Flavor is \"chocolate\" union\n",
    "select \"other\", Flavor, Color from cones where Flavor is not \"chocolate\";\n",
    "```"
   ]
  },
  {
   "cell_type": "markdown",
   "metadata": {},
   "source": [
    "# Programming language APIs\n",
    "\n",
    "Database tables are seldom accessed from a command line as we've done in our interactive session.  They are used by passing queries to the database interpreter - typically underneath some application.  So, they are accessed from within the programming language via an *Application Programming Interface* or *API*.\n",
    "\n",
    "To learn more about an API and what it is used for, check out [this](https://medium.freecodecamp.org/what-is-an-api-in-english-please-b880a3214a82) link.\n",
    "\n",
    "Here's an example of the python API to sqlite3."
   ]
  },
  {
   "cell_type": "code",
   "execution_count": 12,
   "metadata": {
    "collapsed": true
   },
   "outputs": [],
   "source": [
    "import sqlite3"
   ]
  },
  {
   "cell_type": "code",
   "execution_count": 13,
   "metadata": {
    "collapsed": true
   },
   "outputs": [],
   "source": [
    "icecream = sqlite3.connect('icecream.db')"
   ]
  },
  {
   "cell_type": "code",
   "execution_count": 14,
   "metadata": {},
   "outputs": [
    {
     "data": {
      "text/plain": [
       "<sqlite3.Cursor at 0x1169df1f0>"
      ]
     },
     "execution_count": 14,
     "metadata": {},
     "output_type": "execute_result"
    }
   ],
   "source": [
    "icecream.execute('SELECT * FROM cones;')"
   ]
  },
  {
   "cell_type": "code",
   "execution_count": 15,
   "metadata": {},
   "outputs": [
    {
     "data": {
      "text/plain": [
       "[('strawberry',), ('chocolate',), ('bubblegum',)]"
      ]
     },
     "execution_count": 15,
     "metadata": {},
     "output_type": "execute_result"
    }
   ],
   "source": [
    "icecream.execute('SELECT DISTINCT Flavor FROM cones;').fetchall()"
   ]
  },
  {
   "cell_type": "code",
   "execution_count": 16,
   "metadata": {},
   "outputs": [
    {
     "data": {
      "text/plain": [
       "[(2, 'chocolate', 'light brown', 4.75),\n",
       " (3, 'chocolate', 'dark brown', 5.25),\n",
       " (6, 'chocolate', 'dark brown', 5.25)]"
      ]
     },
     "execution_count": 16,
     "metadata": {},
     "output_type": "execute_result"
    }
   ],
   "source": [
    "icecream.execute('SELECT * FROM cones WHERE Flavor is \"chocolate\";').fetchall()"
   ]
  },
  {
   "cell_type": "code",
   "execution_count": 17,
   "metadata": {
    "collapsed": true
   },
   "outputs": [],
   "source": [
    "# Be careful about filling in parameters of the query casually\n",
    "# as it may be open SQL injection attacks\n",
    "\n",
    "col = \"Flavor\""
   ]
  },
  {
   "cell_type": "code",
   "execution_count": 18,
   "metadata": {},
   "outputs": [
    {
     "data": {
      "text/plain": [
       "[('strawberry',), ('chocolate',), ('bubblegum',)]"
      ]
     },
     "execution_count": 18,
     "metadata": {},
     "output_type": "execute_result"
    }
   ],
   "source": [
    "# This looks like it is providing just the list of flavors\n",
    "\n",
    "icecream.execute('SELECT DISTINCT %s FROM cones;' % col).fetchall()"
   ]
  },
  {
   "cell_type": "code",
   "execution_count": 19,
   "metadata": {
    "collapsed": true
   },
   "outputs": [],
   "source": [
    "# What if an attacker managed this?  Go back and evaluate the query above\n",
    "col = \"*\""
   ]
  },
  {
   "cell_type": "code",
   "execution_count": 20,
   "metadata": {},
   "outputs": [
    {
     "data": {
      "text/plain": [
       "[(2, 'chocolate', 'light brown', 4.75),\n",
       " (3, 'chocolate', 'dark brown', 5.25),\n",
       " (6, 'chocolate', 'dark brown', 5.25)]"
      ]
     },
     "execution_count": 20,
     "metadata": {},
     "output_type": "execute_result"
    }
   ],
   "source": [
    "# Query parameter substitution allows the parameters to be filled in\n",
    "# at the database query processor.\n",
    "\n",
    "icecream.execute('SELECT * FROM cones WHERE Flavor is ?;', (\"chocolate\",)).fetchall()"
   ]
  },
  {
   "cell_type": "code",
   "execution_count": 21,
   "metadata": {
    "collapsed": true
   },
   "outputs": [],
   "source": [
    "# Building abstractions that hide the database\n",
    "def flavor(db, flv):\n",
    "    return db.execute('SELECT * FROM cones WHERE Flavor is ?;', (flv,)).fetchall()"
   ]
  },
  {
   "cell_type": "code",
   "execution_count": 22,
   "metadata": {},
   "outputs": [
    {
     "data": {
      "text/plain": [
       "[(2, 'chocolate', 'light brown', 4.75),\n",
       " (3, 'chocolate', 'dark brown', 5.25),\n",
       " (6, 'chocolate', 'dark brown', 5.25)]"
      ]
     },
     "execution_count": 22,
     "metadata": {},
     "output_type": "execute_result"
    }
   ],
   "source": [
    "flavor(icecream, \"chocolate\")"
   ]
  },
  {
   "cell_type": "markdown",
   "metadata": {},
   "source": [
    "## SQL Tables - a new class\n",
    "\n",
    "The following section is optional and for Python experts (this goes beyond the scope of Data8X programming). Let's derive a class from Tables that allows Tables to be read or written to a database.\n",
    "\n",
    "This illustrates:\n",
    "* Class inheritance to extend functionality\n",
    "* Use of helper functions to make coding clear and abstract messy details of a particular implementation.\n",
    "* Exception handling to deal with behavior of underlying module\n",
    "* classmethods and instance methods"
   ]
  },
  {
   "cell_type": "code",
   "execution_count": 23,
   "metadata": {
    "collapsed": true
   },
   "outputs": [],
   "source": [
    "# sqlite3 Helper functions for the SQL_Table class\n",
    "\n",
    "import sqlite3\n",
    "def build_list(s):\n",
    "    \"\"\"Return string representing column name tuple.\"\"\"\n",
    "    res = \"(\"\n",
    "    for v in s[:-1]:\n",
    "        res = res + v + \", \"\n",
    "    res = res + s[-1] + \")\"\n",
    "    return res\n",
    "\n",
    "def build_q(n):\n",
    "    \"\"\"Return string representing parameter substitution tuple.\"\"\"\n",
    "    return \"(\" + \"?, \"*(n-1) + \"?)\"\n",
    "\n",
    "def sqltable_exists(dbconn, table):\n",
    "    \"\"\"Return schema as SQL create statement if table exists.\"\"\"\n",
    "    create = dbconn.execute('select sql from sqlite_master where name=?;', \n",
    "                          (table,)).fetchall()\n",
    "    return create[0][0] if create else False\n",
    "\n",
    "def sqlcol_names(dbconn, table):\n",
    "    \"\"\"Return list of column names of a SQL table.\"\"\"\n",
    "    cursor = dbconn.execute('SELECT * FROM %s LIMIT 1;' % table)\n",
    "    col_names = [col[0] for col in cursor.description]\n",
    "    return col_names\n",
    "\n",
    "def sqlexec(dbconn, query, verbose=False):\n",
    "    \"\"\"Wrap verbose processing around SQL query.\"\"\"\n",
    "    if verbose:\n",
    "        print(query)\n",
    "    return dbconn.execute(query)"
   ]
  },
  {
   "cell_type": "markdown",
   "metadata": {},
   "source": [
    "### SQL_Table Class"
   ]
  },
  {
   "cell_type": "code",
   "execution_count": 24,
   "metadata": {
    "collapsed": true
   },
   "outputs": [],
   "source": [
    "class SQL_Table(Table):\n",
    "    \"\"\" Extend Table class with methods to read/write a Table\n",
    "    from/to a table in a SQLite3 database.\n",
    "    \"\"\"\n",
    "    @classmethod\n",
    "    def read(cls, filepath, table, verbose=False):\n",
    "        \"\"\"Create a SQL_Table by reading a table from a SQL database.\"\"\"\n",
    "        \n",
    "        dbconn = sqlite3.connect(filepath, \n",
    "                                 detect_types=sqlite3.PARSE_COLNAMES)\n",
    "        \n",
    "        col_names = sqlcol_names(dbconn, table)\n",
    "        rows = sqlexec(dbconn,'SELECT * from %s;' % table, verbose).fetchall()\n",
    "        dbconn.close()\n",
    "        return cls(col_names).with_rows(rows)\n",
    "    \n",
    "    def write(self, filepath, table, verbose=False, overwrite=True):\n",
    "        \"\"\"Write a Table into a SQL database as a SQL table.\"\"\"\n",
    "        \n",
    "        dbconn = sqlite3.connect(filepath)\n",
    "        # If a table of this name exists, set it aside\n",
    "        old_table = sqltable_exists(dbconn, table)\n",
    "        if overwrite and old_table:\n",
    "            backup = table+\"_bkp\"\n",
    "            if sqltable_exists(dbconn, backup):\n",
    "                sqlexec(dbconn, 'DROP TABLE %s;' % backup, verbose)\n",
    "            sqlexec(dbconn, 'ALTER TABLE %s RENAME TO %s;' % (table, backup), verbose)\n",
    "\n",
    "        # Create table and insert each row\n",
    "        cols = build_list(self.labels)\n",
    "        sqlexec(dbconn, \"CREATE TABLE %s %s;\" % (table, cols), verbose)\n",
    "        for row in self.rows:  \n",
    "            sqlexec(dbconn, 'INSERT INTO %s VALUES %s;' % (table, tuple(row)), verbose)\n",
    "        dbconn.commit()\n",
    "        \n",
    "        # clean up table, if was set aside\n",
    "        if overwrite and old_table:\n",
    "            try:\n",
    "                sqlexec(dbconn, 'DROP TABLE %s;' % backup, verbose)\n",
    "            except:\n",
    "                print('Unable to drop %s', backup)\n",
    "        dbconn.close()\n",
    "        \n",
    "    @classmethod\n",
    "    def cast(cls, table):\n",
    "        \"\"\"Return a SQL_Table version of a Table.\"\"\"\n",
    "        return cls().with_columns(zip(table.labels, table.columns))"
   ]
  },
  {
   "cell_type": "code",
   "execution_count": 25,
   "metadata": {},
   "outputs": [
    {
     "name": "stdout",
     "output_type": "stream",
     "text": [
      "SELECT * from cones;\n"
     ]
    },
    {
     "data": {
      "text/html": [
       "<table border=\"1\" class=\"dataframe\">\n",
       "    <thead>\n",
       "        <tr>\n",
       "            <th>Id</th> <th>Flavor</th> <th>Color</th> <th>Price</th>\n",
       "        </tr>\n",
       "    </thead>\n",
       "    <tbody>\n",
       "        <tr>\n",
       "            <td>1   </td> <td>strawberry</td> <td>pink       </td> <td>3.55 </td>\n",
       "        </tr>\n",
       "    </tbody>\n",
       "        <tr>\n",
       "            <td>2   </td> <td>chocolate </td> <td>light brown</td> <td>4.75 </td>\n",
       "        </tr>\n",
       "    </tbody>\n",
       "        <tr>\n",
       "            <td>3   </td> <td>chocolate </td> <td>dark brown </td> <td>5.25 </td>\n",
       "        </tr>\n",
       "    </tbody>\n",
       "        <tr>\n",
       "            <td>4   </td> <td>strawberry</td> <td>pink       </td> <td>5.25 </td>\n",
       "        </tr>\n",
       "    </tbody>\n",
       "        <tr>\n",
       "            <td>5   </td> <td>bubblegum </td> <td>pink       </td> <td>4.75 </td>\n",
       "        </tr>\n",
       "    </tbody>\n",
       "        <tr>\n",
       "            <td>6   </td> <td>chocolate </td> <td>dark brown </td> <td>5.25 </td>\n",
       "        </tr>\n",
       "    </tbody>\n",
       "</table>"
      ],
      "text/plain": [
       "Id   | Flavor     | Color       | Price\n",
       "1    | strawberry | pink        | 3.55\n",
       "2    | chocolate  | light brown | 4.75\n",
       "3    | chocolate  | dark brown  | 5.25\n",
       "4    | strawberry | pink        | 5.25\n",
       "5    | bubblegum  | pink        | 4.75\n",
       "6    | chocolate  | dark brown  | 5.25"
      ]
     },
     "execution_count": 25,
     "metadata": {},
     "output_type": "execute_result"
    }
   ],
   "source": [
    "mycones = SQL_Table.read(\"icecream.db\", \"cones\", verbose=True)\n",
    "mycones"
   ]
  },
  {
   "cell_type": "code",
   "execution_count": 26,
   "metadata": {},
   "outputs": [
    {
     "data": {
      "text/plain": [
       "__main__.SQL_Table"
      ]
     },
     "execution_count": 26,
     "metadata": {},
     "output_type": "execute_result"
    }
   ],
   "source": [
    "type(mycones)"
   ]
  },
  {
   "cell_type": "code",
   "execution_count": 27,
   "metadata": {},
   "outputs": [
    {
     "name": "stdout",
     "output_type": "stream",
     "text": [
      "CREATE TABLE cones (Id, Flavor, Color, Price);\n",
      "INSERT INTO cones VALUES (1, 'strawberry', 'pink', 3.5499999999999998);\n",
      "INSERT INTO cones VALUES (2, 'chocolate', 'light brown', 4.75);\n",
      "INSERT INTO cones VALUES (3, 'chocolate', 'dark brown', 5.25);\n",
      "INSERT INTO cones VALUES (4, 'strawberry', 'pink', 5.25);\n",
      "INSERT INTO cones VALUES (5, 'bubblegum', 'pink', 4.75);\n",
      "INSERT INTO cones VALUES (6, 'chocolate', 'dark brown', 5.25);\n"
     ]
    }
   ],
   "source": [
    "db = mycones.write(\"test.db\", \"cones\", verbose=True)"
   ]
  },
  {
   "cell_type": "code",
   "execution_count": 28,
   "metadata": {},
   "outputs": [
    {
     "data": {
      "text/html": [
       "<table border=\"1\" class=\"dataframe\">\n",
       "    <thead>\n",
       "        <tr>\n",
       "            <th>Id</th> <th>Flavor</th> <th>Color</th> <th>Price</th>\n",
       "        </tr>\n",
       "    </thead>\n",
       "    <tbody>\n",
       "        <tr>\n",
       "            <td>1   </td> <td>strawberry</td> <td>pink       </td> <td>3.55 </td>\n",
       "        </tr>\n",
       "    </tbody>\n",
       "        <tr>\n",
       "            <td>2   </td> <td>chocolate </td> <td>light brown</td> <td>4.75 </td>\n",
       "        </tr>\n",
       "    </tbody>\n",
       "        <tr>\n",
       "            <td>3   </td> <td>chocolate </td> <td>dark brown </td> <td>5.25 </td>\n",
       "        </tr>\n",
       "    </tbody>\n",
       "        <tr>\n",
       "            <td>4   </td> <td>strawberry</td> <td>pink       </td> <td>5.25 </td>\n",
       "        </tr>\n",
       "    </tbody>\n",
       "        <tr>\n",
       "            <td>5   </td> <td>bubblegum </td> <td>pink       </td> <td>4.75 </td>\n",
       "        </tr>\n",
       "    </tbody>\n",
       "        <tr>\n",
       "            <td>6   </td> <td>chocolate </td> <td>dark brown </td> <td>5.25 </td>\n",
       "        </tr>\n",
       "    </tbody>\n",
       "</table>"
      ],
      "text/plain": [
       "Id   | Flavor     | Color       | Price\n",
       "1    | strawberry | pink        | 3.55\n",
       "2    | chocolate  | light brown | 4.75\n",
       "3    | chocolate  | dark brown  | 5.25\n",
       "4    | strawberry | pink        | 5.25\n",
       "5    | bubblegum  | pink        | 4.75\n",
       "6    | chocolate  | dark brown  | 5.25"
      ]
     },
     "execution_count": 28,
     "metadata": {},
     "output_type": "execute_result"
    }
   ],
   "source": [
    "SQL_Table.read(\"test.db\", \"cones\")"
   ]
  },
  {
   "cell_type": "code",
   "execution_count": 29,
   "metadata": {
    "collapsed": true
   },
   "outputs": [],
   "source": [
    "scones = SQL_Table.cast(cones)\n",
    "scones.write(\"cones.db\", \"cones\")"
   ]
  },
  {
   "cell_type": "code",
   "execution_count": 30,
   "metadata": {},
   "outputs": [
    {
     "data": {
      "text/html": [
       "<table border=\"1\" class=\"dataframe\">\n",
       "    <thead>\n",
       "        <tr>\n",
       "            <th>Id</th> <th>Flavor</th> <th>Color</th> <th>Price</th>\n",
       "        </tr>\n",
       "    </thead>\n",
       "    <tbody>\n",
       "        <tr>\n",
       "            <td>1   </td> <td>strawberry</td> <td>pink       </td> <td>3.55 </td>\n",
       "        </tr>\n",
       "    </tbody>\n",
       "        <tr>\n",
       "            <td>2   </td> <td>chocolate </td> <td>light brown</td> <td>4.75 </td>\n",
       "        </tr>\n",
       "    </tbody>\n",
       "        <tr>\n",
       "            <td>3   </td> <td>chocolate </td> <td>dark brown </td> <td>5.25 </td>\n",
       "        </tr>\n",
       "    </tbody>\n",
       "        <tr>\n",
       "            <td>4   </td> <td>strawberry</td> <td>pink       </td> <td>5.25 </td>\n",
       "        </tr>\n",
       "    </tbody>\n",
       "        <tr>\n",
       "            <td>5   </td> <td>bubblegum </td> <td>pink       </td> <td>4.75 </td>\n",
       "        </tr>\n",
       "    </tbody>\n",
       "        <tr>\n",
       "            <td>6   </td> <td>chocolate </td> <td>dark brown </td> <td>5.25 </td>\n",
       "        </tr>\n",
       "    </tbody>\n",
       "        <tr>\n",
       "            <td>7   </td> <td>Vanila    </td> <td>White      </td> <td>3.95 </td>\n",
       "        </tr>\n",
       "    </tbody>\n",
       "</table>"
      ],
      "text/plain": [
       "Id   | Flavor     | Color       | Price\n",
       "1    | strawberry | pink        | 3.55\n",
       "2    | chocolate  | light brown | 4.75\n",
       "3    | chocolate  | dark brown  | 5.25\n",
       "4    | strawberry | pink        | 5.25\n",
       "5    | bubblegum  | pink        | 4.75\n",
       "6    | chocolate  | dark brown  | 5.25\n",
       "7    | Vanila     | White       | 3.95"
      ]
     },
     "execution_count": 30,
     "metadata": {},
     "output_type": "execute_result"
    }
   ],
   "source": [
    "SQL_Table.read(\"cones.db\", \"cones\")"
   ]
  },
  {
   "cell_type": "markdown",
   "metadata": {},
   "source": [
    "## A larger example - NBA Players\n",
    "We are now going to use a different dataset for more examples. This data set is related to NBA Players and their salary and has information such as the player name, the position they play, what team they are on, and their salary. "
   ]
  },
  {
   "cell_type": "code",
   "execution_count": 31,
   "metadata": {},
   "outputs": [
    {
     "data": {
      "text/html": [
       "<table border=\"1\" class=\"dataframe\">\n",
       "    <thead>\n",
       "        <tr>\n",
       "            <th>PLAYER</th> <th>POSITION</th> <th>TEAM</th> <th>SALARY</th>\n",
       "        </tr>\n",
       "    </thead>\n",
       "    <tbody>\n",
       "        <tr>\n",
       "            <td>Paul Millsap    </td> <td>PF      </td> <td>Atlanta Hawks</td> <td>18.6717</td>\n",
       "        </tr>\n",
       "    </tbody>\n",
       "        <tr>\n",
       "            <td>Al Horford      </td> <td>C       </td> <td>Atlanta Hawks</td> <td>12     </td>\n",
       "        </tr>\n",
       "    </tbody>\n",
       "        <tr>\n",
       "            <td>Tiago Splitter  </td> <td>C       </td> <td>Atlanta Hawks</td> <td>9.75625</td>\n",
       "        </tr>\n",
       "    </tbody>\n",
       "        <tr>\n",
       "            <td>Jeff Teague     </td> <td>PG      </td> <td>Atlanta Hawks</td> <td>8      </td>\n",
       "        </tr>\n",
       "    </tbody>\n",
       "        <tr>\n",
       "            <td>Kyle Korver     </td> <td>SG      </td> <td>Atlanta Hawks</td> <td>5.74648</td>\n",
       "        </tr>\n",
       "    </tbody>\n",
       "        <tr>\n",
       "            <td>Thabo Sefolosha </td> <td>SF      </td> <td>Atlanta Hawks</td> <td>4      </td>\n",
       "        </tr>\n",
       "    </tbody>\n",
       "        <tr>\n",
       "            <td>Mike Scott      </td> <td>PF      </td> <td>Atlanta Hawks</td> <td>3.33333</td>\n",
       "        </tr>\n",
       "    </tbody>\n",
       "        <tr>\n",
       "            <td>Kent Bazemore   </td> <td>SF      </td> <td>Atlanta Hawks</td> <td>2      </td>\n",
       "        </tr>\n",
       "    </tbody>\n",
       "        <tr>\n",
       "            <td>Dennis Schroder </td> <td>PG      </td> <td>Atlanta Hawks</td> <td>1.7634 </td>\n",
       "        </tr>\n",
       "    </tbody>\n",
       "        <tr>\n",
       "            <td>Tim Hardaway Jr.</td> <td>SG      </td> <td>Atlanta Hawks</td> <td>1.30452</td>\n",
       "        </tr>\n",
       "    </tbody>\n",
       "</table>\n",
       "<p>... (407 rows omitted)</p"
      ],
      "text/plain": [
       "PLAYER           | POSITION | TEAM          | SALARY\n",
       "Paul Millsap     | PF       | Atlanta Hawks | 18.6717\n",
       "Al Horford       | C        | Atlanta Hawks | 12\n",
       "Tiago Splitter   | C        | Atlanta Hawks | 9.75625\n",
       "Jeff Teague      | PG       | Atlanta Hawks | 8\n",
       "Kyle Korver      | SG       | Atlanta Hawks | 5.74648\n",
       "Thabo Sefolosha  | SF       | Atlanta Hawks | 4\n",
       "Mike Scott       | PF       | Atlanta Hawks | 3.33333\n",
       "Kent Bazemore    | SF       | Atlanta Hawks | 2\n",
       "Dennis Schroder  | PG       | Atlanta Hawks | 1.7634\n",
       "Tim Hardaway Jr. | SG       | Atlanta Hawks | 1.30452\n",
       "... (407 rows omitted)"
      ]
     },
     "execution_count": 31,
     "metadata": {},
     "output_type": "execute_result"
    }
   ],
   "source": [
    "# Table constructor method\n",
    "\n",
    "# NBA player data from 15-16 season\n",
    "nba = SQL_Table.read_table('nba_salaries.csv')\n",
    "nba"
   ]
  },
  {
   "cell_type": "markdown",
   "metadata": {},
   "source": [
    "SQL equivalent\n",
    "\n",
    "sqlite3 non-standard way to create a table from a csv file\n",
    "\n",
    "```\n",
    ".mode csv\n",
    ".import nba_salaries.csv nba_raw\n",
    "```\n",
    "\n",
    "Now we have a real table to work with\n",
    "```\n",
    "sqlite>.tables\n",
    "nba\n",
    "sqlite> .headers on\n",
    "sqlite> select * from nba_raw limit 10;\n",
    "```\n",
    "\n",
    "Caution: Here we have specified `limit` to reduce the size of the output.  Unlike the `__repr__` of `Table`, this is actually limiting the size of the returned table value. In non-interactive use, you would seldom want to do this."
   ]
  },
  {
   "cell_type": "code",
   "execution_count": 32,
   "metadata": {
    "collapsed": true
   },
   "outputs": [],
   "source": [
    "nba.write(\"nba_salaries.db\", \"nba\")"
   ]
  },
  {
   "cell_type": "code",
   "execution_count": 33,
   "metadata": {
    "collapsed": true
   },
   "outputs": [],
   "source": [
    "nba_db = sqlite3.connect(\"nba_salaries.db\")"
   ]
  },
  {
   "cell_type": "code",
   "execution_count": 34,
   "metadata": {},
   "outputs": [
    {
     "data": {
      "text/html": [
       "<table border=\"1\" class=\"dataframe\">\n",
       "    <thead>\n",
       "        <tr>\n",
       "            <th>PLAYER</th> <th>POSITION</th> <th>TEAM</th>\n",
       "        </tr>\n",
       "    </thead>\n",
       "    <tbody>\n",
       "        <tr>\n",
       "            <td>Paul Millsap    </td> <td>PF      </td> <td>Atlanta Hawks</td>\n",
       "        </tr>\n",
       "    </tbody>\n",
       "        <tr>\n",
       "            <td>Al Horford      </td> <td>C       </td> <td>Atlanta Hawks</td>\n",
       "        </tr>\n",
       "    </tbody>\n",
       "        <tr>\n",
       "            <td>Tiago Splitter  </td> <td>C       </td> <td>Atlanta Hawks</td>\n",
       "        </tr>\n",
       "    </tbody>\n",
       "        <tr>\n",
       "            <td>Jeff Teague     </td> <td>PG      </td> <td>Atlanta Hawks</td>\n",
       "        </tr>\n",
       "    </tbody>\n",
       "        <tr>\n",
       "            <td>Kyle Korver     </td> <td>SG      </td> <td>Atlanta Hawks</td>\n",
       "        </tr>\n",
       "    </tbody>\n",
       "        <tr>\n",
       "            <td>Thabo Sefolosha </td> <td>SF      </td> <td>Atlanta Hawks</td>\n",
       "        </tr>\n",
       "    </tbody>\n",
       "        <tr>\n",
       "            <td>Mike Scott      </td> <td>PF      </td> <td>Atlanta Hawks</td>\n",
       "        </tr>\n",
       "    </tbody>\n",
       "        <tr>\n",
       "            <td>Kent Bazemore   </td> <td>SF      </td> <td>Atlanta Hawks</td>\n",
       "        </tr>\n",
       "    </tbody>\n",
       "        <tr>\n",
       "            <td>Dennis Schroder </td> <td>PG      </td> <td>Atlanta Hawks</td>\n",
       "        </tr>\n",
       "    </tbody>\n",
       "        <tr>\n",
       "            <td>Tim Hardaway Jr.</td> <td>SG      </td> <td>Atlanta Hawks</td>\n",
       "        </tr>\n",
       "    </tbody>\n",
       "</table>\n",
       "<p>... (407 rows omitted)</p"
      ],
      "text/plain": [
       "PLAYER           | POSITION | TEAM\n",
       "Paul Millsap     | PF       | Atlanta Hawks\n",
       "Al Horford       | C        | Atlanta Hawks\n",
       "Tiago Splitter   | C        | Atlanta Hawks\n",
       "Jeff Teague      | PG       | Atlanta Hawks\n",
       "Kyle Korver      | SG       | Atlanta Hawks\n",
       "Thabo Sefolosha  | SF       | Atlanta Hawks\n",
       "Mike Scott       | PF       | Atlanta Hawks\n",
       "Kent Bazemore    | SF       | Atlanta Hawks\n",
       "Dennis Schroder  | PG       | Atlanta Hawks\n",
       "Tim Hardaway Jr. | SG       | Atlanta Hawks\n",
       "... (407 rows omitted)"
      ]
     },
     "execution_count": 34,
     "metadata": {},
     "output_type": "execute_result"
    }
   ],
   "source": [
    "nba.select(['PLAYER', 'POSITION', 'TEAM'])"
   ]
  },
  {
   "cell_type": "markdown",
   "metadata": {},
   "source": [
    "SQL equivalent\n",
    "\n",
    "Specify columns by sequence of names separated by \",\", instead of \"*\".\n",
    "\n",
    "```\n",
    "select PLAYER, POSITION, TEAM from nba_raw limit 10;\n",
    "\n",
    "sqlite> select PLAYER, POSITION, TEAM from nba limit 10;\n",
    "PLAYER,POSITION,TEAM\n",
    "\"Paul Millsap\",PF,\"Atlanta Hawks\"\n",
    "\"Al Horford\",C,\"Atlanta Hawks\"\n",
    "\"Tiago Splitter\",C,\"Atlanta Hawks\"\n",
    "\"Jeff Teague\",PG,\"Atlanta Hawks\"\n",
    "\"Kyle Korver\",SG,\"Atlanta Hawks\"\n",
    "\"Thabo Sefolosha\",SF,\"Atlanta Hawks\"\n",
    "\"Mike Scott\",PF,\"Atlanta Hawks\"\n",
    "\"Kent Bazemore\",SF,\"Atlanta Hawks\"\n",
    "\"Dennis Schroder\",PG,\"Atlanta Hawks\"\n",
    "\"Tim Hardaway Jr.\",SG,\"Atlanta Hawks\"\n",
    "sqlite> \n",
    "```"
   ]
  },
  {
   "cell_type": "code",
   "execution_count": 35,
   "metadata": {},
   "outputs": [
    {
     "data": {
      "text/plain": [
       "[('Paul Millsap', 'PF', 'Atlanta Hawks'),\n",
       " ('Al Horford', 'C', 'Atlanta Hawks'),\n",
       " ('Tiago Splitter', 'C', 'Atlanta Hawks'),\n",
       " ('Jeff Teague', 'PG', 'Atlanta Hawks'),\n",
       " ('Kyle Korver', 'SG', 'Atlanta Hawks'),\n",
       " ('Thabo Sefolosha', 'SF', 'Atlanta Hawks'),\n",
       " ('Mike Scott', 'PF', 'Atlanta Hawks'),\n",
       " ('Kent Bazemore', 'SF', 'Atlanta Hawks'),\n",
       " ('Dennis Schroder', 'PG', 'Atlanta Hawks'),\n",
       " ('Tim Hardaway Jr.', 'SG', 'Atlanta Hawks'),\n",
       " ('Walter Tavares', 'C', 'Atlanta Hawks'),\n",
       " ('Jason Richardson', 'SG', 'Atlanta Hawks'),\n",
       " ('Lamar Patterson', 'SG', 'Atlanta Hawks'),\n",
       " ('Terran Petteway', 'SG', 'Atlanta Hawks'),\n",
       " ('Avery Bradley', 'PG', 'Boston Celtics'),\n",
       " ('Isaiah Thomas', 'PG', 'Boston Celtics'),\n",
       " ('Jae Crowder', 'SF', 'Boston Celtics'),\n",
       " ('Jonas Jerebko', 'PF', 'Boston Celtics'),\n",
       " ('Marcus Smart', 'PG', 'Boston Celtics'),\n",
       " ('Evan Turner', 'SG', 'Boston Celtics'),\n",
       " ('Tyler Zeller', 'C', 'Boston Celtics'),\n",
       " ('Jared Sullinger', 'C', 'Boston Celtics'),\n",
       " ('Kelly Olynyk', 'C', 'Boston Celtics'),\n",
       " ('Perry Jones', 'SF', 'Boston Celtics'),\n",
       " ('Terry Rozier', 'PG', 'Boston Celtics'),\n",
       " ('James Young', 'SG', 'Boston Celtics'),\n",
       " ('Zoran Dragic', 'SG', 'Boston Celtics'),\n",
       " ('Jordan Mickey', 'PF', 'Boston Celtics'),\n",
       " ('R.J. Hunter', 'SG', 'Boston Celtics'),\n",
       " ('Joe Johnson', 'SF', 'Brooklyn Nets'),\n",
       " ('Thaddeus Young', 'PF', 'Brooklyn Nets'),\n",
       " ('Jarrett Jack', 'PG', 'Brooklyn Nets'),\n",
       " ('Bojan Bogdanovic', 'SG', 'Brooklyn Nets'),\n",
       " ('Sergey Karasev', 'SG', 'Brooklyn Nets'),\n",
       " ('Wayne Ellington', 'SG', 'Brooklyn Nets'),\n",
       " ('Shane Larkin', 'PG', 'Brooklyn Nets'),\n",
       " ('Andrea Bargnani', 'C', 'Brooklyn Nets'),\n",
       " ('Rondae Hollis-Jefferson', 'SG', 'Brooklyn Nets'),\n",
       " ('Earl Clark', 'SF', 'Brooklyn Nets'),\n",
       " ('Chris McCullough', 'PF', 'Brooklyn Nets'),\n",
       " ('Thomas Robinson', 'PF', 'Brooklyn Nets'),\n",
       " ('Markel Brown', 'SG', 'Brooklyn Nets'),\n",
       " ('Al Jefferson', 'C', 'Charlotte Hornets'),\n",
       " ('Nicolas Batum', 'SG', 'Charlotte Hornets'),\n",
       " ('Kemba Walker', 'PG', 'Charlotte Hornets'),\n",
       " ('Marvin Williams', 'PF', 'Charlotte Hornets'),\n",
       " ('Michael Kidd-Gilchrist', 'SF', 'Charlotte Hornets'),\n",
       " ('Spencer Hawes', 'PF', 'Charlotte Hornets'),\n",
       " ('Courtney Lee', 'SG', 'Charlotte Hornets'),\n",
       " ('Cody Zeller', 'C', 'Charlotte Hornets'),\n",
       " ('Jeremy Lamb', 'SG', 'Charlotte Hornets'),\n",
       " ('Brian Roberts', 'PG', 'Charlotte Hornets'),\n",
       " ('Frank Kaminsky III', 'C', 'Charlotte Hornets'),\n",
       " ('Jeremy Lin', 'PG', 'Charlotte Hornets'),\n",
       " ('P.J. Hairston', 'SF', 'Charlotte Hornets'),\n",
       " ('Damien Wilkins', 'SG', 'Charlotte Hornets'),\n",
       " ('Jorge Gutierrez', 'PG', 'Charlotte Hornets'),\n",
       " ('Tyler Hansbrough', 'PF', 'Charlotte Hornets'),\n",
       " ('Troy Daniels', 'SG', 'Charlotte Hornets'),\n",
       " ('Aaron Harrison', 'SG', 'Charlotte Hornets'),\n",
       " ('Derrick Rose', 'PG', 'Chicago Bulls'),\n",
       " ('Jimmy Butler', 'SG', 'Chicago Bulls'),\n",
       " ('Joakim Noah', 'C', 'Chicago Bulls'),\n",
       " ('Pau Gasol', 'C', 'Chicago Bulls'),\n",
       " ('Nikola Mirotic', 'PF', 'Chicago Bulls'),\n",
       " ('Mike Dunleavy', 'SG', 'Chicago Bulls'),\n",
       " ('Kirk Hinrich', 'SG', 'Chicago Bulls'),\n",
       " ('Doug McDermott', 'SF', 'Chicago Bulls'),\n",
       " ('Aaron Brooks', 'PG', 'Chicago Bulls'),\n",
       " ('Tony Snell', 'SF', 'Chicago Bulls'),\n",
       " ('Bobby Portis', 'PF', 'Chicago Bulls'),\n",
       " (\"E'Twaun Moore\", 'SG', 'Chicago Bulls'),\n",
       " ('LeBron James', 'SF', 'Cleveland Cavaliers'),\n",
       " ('Kevin Love', 'PF', 'Cleveland Cavaliers'),\n",
       " ('Kyrie Irving', 'PG', 'Cleveland Cavaliers'),\n",
       " ('Tristan Thompson', 'C', 'Cleveland Cavaliers'),\n",
       " ('Brendan Haywood', 'C', 'Cleveland Cavaliers'),\n",
       " ('Iman Shumpert', 'SG', 'Cleveland Cavaliers'),\n",
       " ('Timofey Mozgov', 'C', 'Cleveland Cavaliers'),\n",
       " ('Mo Williams', 'PG', 'Cleveland Cavaliers'),\n",
       " ('Sasha Kaun', 'C', 'Cleveland Cavaliers'),\n",
       " ('Matthew Dellavedova', 'PG', 'Cleveland Cavaliers'),\n",
       " ('David Lee', 'PF', 'Dallas Mavericks'),\n",
       " ('Chandler Parsons', 'SF', 'Dallas Mavericks'),\n",
       " ('Dirk Nowitzki', 'PF', 'Dallas Mavericks'),\n",
       " ('Deron Williams', 'PG', 'Dallas Mavericks'),\n",
       " ('Zaza Pachulia', 'C', 'Dallas Mavericks'),\n",
       " ('J.J. Barea', 'PG', 'Dallas Mavericks'),\n",
       " ('Devin Harris', 'PG', 'Dallas Mavericks'),\n",
       " ('Raymond Felton', 'PG', 'Dallas Mavericks'),\n",
       " ('Justin Anderson', 'SG', 'Dallas Mavericks'),\n",
       " ('JaVale McGee', 'C', 'Dallas Mavericks'),\n",
       " ('John Jenkins', 'SG', 'Dallas Mavericks'),\n",
       " ('Danilo Gallinari', 'SF', 'Denver Nuggets'),\n",
       " ('Kenneth Faried', 'PF', 'Denver Nuggets'),\n",
       " ('Wilson Chandler', 'SF', 'Denver Nuggets'),\n",
       " ('JJ Hickson', 'C', 'Denver Nuggets'),\n",
       " ('Jameer Nelson', 'PG', 'Denver Nuggets'),\n",
       " ('Will Barton', 'SF', 'Denver Nuggets'),\n",
       " ('Emmanuel Mudiay', 'PG', 'Denver Nuggets'),\n",
       " ('Darrell Arthur', 'PF', 'Denver Nuggets'),\n",
       " ('Jusuf Nurkic', 'C', 'Denver Nuggets'),\n",
       " ('Joffrey Lauvergne', 'C', 'Denver Nuggets'),\n",
       " ('Gary Harris', 'SG', 'Denver Nuggets'),\n",
       " ('Nikola Jokic', 'C', 'Denver Nuggets'),\n",
       " ('Kostas Papanikolaou', 'SF', 'Denver Nuggets'),\n",
       " ('Sean Kilpatrick', 'SG', 'Denver Nuggets'),\n",
       " ('Reggie Jackson', 'PG', 'Detroit Pistons'),\n",
       " ('Aron Baynes', 'C', 'Detroit Pistons'),\n",
       " ('Jodie Meeks', 'SG', 'Detroit Pistons'),\n",
       " ('Andre Drummond', 'C', 'Detroit Pistons'),\n",
       " ('Kentavious Caldwell-Pope', 'SG', 'Detroit Pistons'),\n",
       " ('Stanley Johnson', 'SF', 'Detroit Pistons'),\n",
       " ('Joel Anthony', 'C', 'Detroit Pistons'),\n",
       " ('Danny Granger', 'SF', 'Detroit Pistons'),\n",
       " ('Reggie Bullock', 'SF', 'Detroit Pistons'),\n",
       " ('Darrun Hilliard', 'SF', 'Detroit Pistons'),\n",
       " ('Klay Thompson', 'SG', 'Golden State Warriors'),\n",
       " ('Draymond Green', 'PF', 'Golden State Warriors'),\n",
       " ('Andrew Bogut', 'C', 'Golden State Warriors'),\n",
       " ('Andre Iguodala', 'SF', 'Golden State Warriors'),\n",
       " ('Stephen Curry', 'PG', 'Golden State Warriors'),\n",
       " ('Jason Thompson', 'PF', 'Golden State Warriors'),\n",
       " ('Shaun Livingston', 'PG', 'Golden State Warriors'),\n",
       " ('Harrison Barnes', 'SF', 'Golden State Warriors'),\n",
       " ('Marreese Speights', 'C', 'Golden State Warriors'),\n",
       " ('Leandro Barbosa', 'SG', 'Golden State Warriors'),\n",
       " ('Festus Ezeli', 'C', 'Golden State Warriors'),\n",
       " ('Brandon Rush', 'SF', 'Golden State Warriors'),\n",
       " ('Kevon Looney', 'SF', 'Golden State Warriors'),\n",
       " ('Anderson Varejao', 'PF', 'Golden State Warriors'),\n",
       " ('Dwight Howard', 'C', 'Houston Rockets'),\n",
       " ('James Harden', 'SG', 'Houston Rockets'),\n",
       " ('Ty Lawson', 'PG', 'Houston Rockets'),\n",
       " ('Corey Brewer', 'SG', 'Houston Rockets'),\n",
       " ('Trevor Ariza', 'SF', 'Houston Rockets'),\n",
       " ('Patrick Beverley', 'PG', 'Houston Rockets'),\n",
       " ('K.J. McDaniels', 'SG', 'Houston Rockets'),\n",
       " ('Terrence Jones', 'PF', 'Houston Rockets'),\n",
       " ('Donatas Motiejunas', 'PF', 'Houston Rockets'),\n",
       " ('Sam Dekker', 'SF', 'Houston Rockets'),\n",
       " ('Clint Capela', 'PF', 'Houston Rockets'),\n",
       " ('Montrezl Harrell', 'PF', 'Houston Rockets'),\n",
       " ('Paul George', 'SF', 'Indiana Pacers'),\n",
       " ('Monta Ellis', 'SG', 'Indiana Pacers'),\n",
       " ('Rodney Stuckey', 'PG', 'Indiana Pacers'),\n",
       " ('Chase Budinger', 'SF', 'Indiana Pacers'),\n",
       " ('C.J. Miles', 'SF', 'Indiana Pacers'),\n",
       " ('Lavoy Allen', 'PF', 'Indiana Pacers'),\n",
       " ('Jordan Hill', 'C', 'Indiana Pacers'),\n",
       " ('Ian Mahinmi', 'C', 'Indiana Pacers'),\n",
       " ('Myles Turner', 'PF', 'Indiana Pacers'),\n",
       " ('Solomon Hill', 'SF', 'Indiana Pacers'),\n",
       " ('Glenn Robinson III', 'SG', 'Indiana Pacers'),\n",
       " ('Rakeem Christmas', 'PF', 'Indiana Pacers'),\n",
       " ('Joe Young', 'PG', 'Indiana Pacers'),\n",
       " ('Chris Paul', 'PG', 'Los Angeles Clippers'),\n",
       " ('Blake Griffin', 'PF', 'Los Angeles Clippers'),\n",
       " ('J.J. Redick', 'SG', 'Los Angeles Clippers'),\n",
       " ('Jamal Crawford', 'SG', 'Los Angeles Clippers'),\n",
       " ('Paul Pierce', 'SF', 'Los Angeles Clippers'),\n",
       " ('Austin Rivers', 'PG', 'Los Angeles Clippers'),\n",
       " ('C.J. Wilcox', 'SG', 'Los Angeles Clippers'),\n",
       " ('Cole Aldrich', 'C', 'Los Angeles Clippers'),\n",
       " ('Wesley Johnson', 'SF', 'Los Angeles Clippers'),\n",
       " ('Jordan Hamilton', 'SG', 'Los Angeles Clippers'),\n",
       " ('Lester Hudson', 'SG', 'Los Angeles Clippers'),\n",
       " ('Pablo Prigioni', 'PG', 'Los Angeles Clippers'),\n",
       " ('Jeff Ayres', 'PF', 'Los Angeles Clippers'),\n",
       " ('Kobe Bryant', 'SF', 'Los Angeles Lakers'),\n",
       " ('Roy Hibbert', 'C', 'Los Angeles Lakers'),\n",
       " ('Louis Williams', 'SG', 'Los Angeles Lakers'),\n",
       " ('Nick Young', 'SF', 'Los Angeles Lakers'),\n",
       " (\"D'Angelo Russell\", 'PG', 'Los Angeles Lakers'),\n",
       " ('Julius Randle', 'PF', 'Los Angeles Lakers'),\n",
       " ('Brandon Bass', 'PF', 'Los Angeles Lakers'),\n",
       " ('Ryan Kelly', 'PF', 'Los Angeles Lakers'),\n",
       " ('Larry Nance Jr.', 'PF', 'Los Angeles Lakers'),\n",
       " ('Robert Sacre', 'C', 'Los Angeles Lakers'),\n",
       " ('Anthony Brown', 'SF', 'Los Angeles Lakers'),\n",
       " ('Marc Gasol', 'C', 'Memphis Grizzlies'),\n",
       " ('Zach Randolph', 'PF', 'Memphis Grizzlies'),\n",
       " ('Mike Conley', 'PG', 'Memphis Grizzlies'),\n",
       " ('Jeff Green', 'SF', 'Memphis Grizzlies'),\n",
       " ('Lance Stephenson', 'SF', 'Memphis Grizzlies'),\n",
       " ('Brandan Wright', 'PF', 'Memphis Grizzlies'),\n",
       " ('Tony Allen', 'SG', 'Memphis Grizzlies'),\n",
       " ('Chris Andersen', 'PF', 'Memphis Grizzlies'),\n",
       " ('Mario Chalmers', 'PG', 'Memphis Grizzlies'),\n",
       " ('Vince Carter', 'SG', 'Memphis Grizzlies'),\n",
       " ('Matt Barnes', 'SF', 'Memphis Grizzlies'),\n",
       " ('Beno Udrih', 'PG', 'Memphis Grizzlies'),\n",
       " ('Jordan Adams', 'SG', 'Memphis Grizzlies'),\n",
       " ('Jarell Martin', 'PF', 'Memphis Grizzlies'),\n",
       " ('JaMychal Green', 'PF', 'Memphis Grizzlies'),\n",
       " ('Russ Smith', 'PG', 'Memphis Grizzlies'),\n",
       " ('James Ennis', 'SF', 'Memphis Grizzlies'),\n",
       " ('Jarnell Stokes', 'PF', 'Memphis Grizzlies'),\n",
       " ('Jarrid Famous', 'PF', 'Memphis Grizzlies'),\n",
       " ('Ryan Hollins', 'C', 'Memphis Grizzlies'),\n",
       " ('Elliot Williams', 'SG', 'Memphis Grizzlies'),\n",
       " ('Chris Bosh', 'PF', 'Miami Heat'),\n",
       " ('Dwyane Wade', 'SG', 'Miami Heat'),\n",
       " ('Goran Dragic', 'PG', 'Miami Heat'),\n",
       " ('Luol Deng', 'SF', 'Miami Heat'),\n",
       " ('Josh McRoberts', 'PF', 'Miami Heat'),\n",
       " ('Udonis Haslem', 'PF', 'Miami Heat'),\n",
       " ('Justise Winslow', 'SF', 'Miami Heat'),\n",
       " ('Henry Walker', 'SF', 'Miami Heat'),\n",
       " ('Tyler Johnson', 'SG', 'Miami Heat'),\n",
       " ('Greg Whittington', 'SF', 'Miami Heat'),\n",
       " ('Josh Richardson', 'SG', 'Miami Heat'),\n",
       " ('Corey Hawkins', 'PG', 'Miami Heat'),\n",
       " ('Khris Middleton', 'SG', 'Milwaukee Bucks'),\n",
       " ('O.J. Mayo', 'SG', 'Milwaukee Bucks'),\n",
       " ('Greivis Vasquez', 'PG', 'Milwaukee Bucks'),\n",
       " ('Jabari Parker', 'PF', 'Milwaukee Bucks'),\n",
       " ('Jerryd Bayless', 'PG', 'Milwaukee Bucks'),\n",
       " ('John Henson', 'PF', 'Milwaukee Bucks'),\n",
       " ('Michael Carter-Williams', 'PG', 'Milwaukee Bucks'),\n",
       " ('Miles Plumlee', 'C', 'Milwaukee Bucks'),\n",
       " ('Giannis Antetokounmpo', 'SF', 'Milwaukee Bucks'),\n",
       " ('Rashad Vaughn', 'SG', 'Milwaukee Bucks'),\n",
       " ('Tyler Ennis', 'PG', 'Milwaukee Bucks'),\n",
       " ('Chris Copeland', 'SF', 'Milwaukee Bucks'),\n",
       " ('Damien Inglis', 'SF', 'Milwaukee Bucks'),\n",
       " ('Ricky Rubio', 'PG', 'Minnesota Timberwolves'),\n",
       " ('Nikola Pekovic', 'C', 'Minnesota Timberwolves'),\n",
       " ('Kevin Garnett', 'PF', 'Minnesota Timberwolves'),\n",
       " ('Kevin Martin', 'SG', 'Minnesota Timberwolves'),\n",
       " ('Andrew Wiggins', 'SG', 'Minnesota Timberwolves'),\n",
       " ('Karl-Anthony Towns', 'C', 'Minnesota Timberwolves'),\n",
       " ('Nemanja Bjelica', 'PF', 'Minnesota Timberwolves'),\n",
       " ('Zach LaVine', 'PG', 'Minnesota Timberwolves'),\n",
       " ('Shabazz Muhammad', 'SF', 'Minnesota Timberwolves'),\n",
       " ('Adreian Payne', 'PF', 'Minnesota Timberwolves'),\n",
       " ('Gorgui Dieng', 'C', 'Minnesota Timberwolves'),\n",
       " ('Tyus Jones', 'PG', 'Minnesota Timberwolves'),\n",
       " ('Damjan Rudez', 'SF', 'Minnesota Timberwolves'),\n",
       " ('Eric Gordon', 'SG', 'New Orleans Pelicans'),\n",
       " ('Tyreke Evans', 'SG', 'New Orleans Pelicans'),\n",
       " ('Jrue Holiday', 'PG', 'New Orleans Pelicans'),\n",
       " ('Omer Asik', 'C', 'New Orleans Pelicans'),\n",
       " ('Ryan Anderson', 'PF', 'New Orleans Pelicans'),\n",
       " ('Anthony Davis', 'PF', 'New Orleans Pelicans'),\n",
       " ('Alexis Ajinca', 'C', 'New Orleans Pelicans'),\n",
       " ('Quincy Pondexter', 'SF', 'New Orleans Pelicans'),\n",
       " ('Norris Cole', 'PG', 'New Orleans Pelicans'),\n",
       " ('Dante Cunningham', 'PF', 'New Orleans Pelicans'),\n",
       " ('Alonzo Gee', 'SF', 'New Orleans Pelicans'),\n",
       " ('Toney Douglas', 'PG', 'New Orleans Pelicans'),\n",
       " ('Luke Babbitt', 'SF', 'New Orleans Pelicans'),\n",
       " ('Kendrick Perkins', 'C', 'New Orleans Pelicans'),\n",
       " ('Bo McCalebb', 'PG', 'New Orleans Pelicans'),\n",
       " ('Bryce Dejean-Jones', 'SG', 'New Orleans Pelicans'),\n",
       " ('Carmelo Anthony', 'SF', 'New York Knicks'),\n",
       " ('Robin Lopez', 'C', 'New York Knicks'),\n",
       " ('Arron Afflalo', 'SG', 'New York Knicks'),\n",
       " ('Jose Calderon', 'PG', 'New York Knicks'),\n",
       " ('Kristaps Porzingis', 'PF', 'New York Knicks'),\n",
       " ('Derrick Williams', 'PF', 'New York Knicks'),\n",
       " (\"Kyle O'Quinn\", 'PF', 'New York Knicks'),\n",
       " ('Lance Thomas', 'SF', 'New York Knicks'),\n",
       " ('Lou Amundson', 'PF', 'New York Knicks'),\n",
       " ('Jerian Grant', 'PG', 'New York Knicks'),\n",
       " ('Jimmer Fredette', 'PG', 'New York Knicks'),\n",
       " ('Langston Galloway', 'SG', 'New York Knicks'),\n",
       " ('Thanasis Antetokounmpo', 'SF', 'New York Knicks'),\n",
       " ('Kevin Durant', 'SF', 'Oklahoma City Thunder'),\n",
       " ('Russell Westbrook', 'PG', 'Oklahoma City Thunder'),\n",
       " ('Enes Kanter', 'C', 'Oklahoma City Thunder'),\n",
       " ('Serge Ibaka', 'PF', 'Oklahoma City Thunder'),\n",
       " ('Dion Waiters', 'SG', 'Oklahoma City Thunder'),\n",
       " ('Kyle Singler', 'SF', 'Oklahoma City Thunder'),\n",
       " ('Nick Collison', 'PF', 'Oklahoma City Thunder'),\n",
       " ('Anthony Morrow', 'SG', 'Oklahoma City Thunder'),\n",
       " ('Randy Foye', 'SG', 'Oklahoma City Thunder'),\n",
       " ('D.J. Augustin', 'PG', 'Oklahoma City Thunder'),\n",
       " ('Steven Adams', 'C', 'Oklahoma City Thunder'),\n",
       " ('Cameron Payne', 'PG', 'Oklahoma City Thunder'),\n",
       " ('Mitch McGary', 'PF', 'Oklahoma City Thunder'),\n",
       " ('Andre Roberson', 'SG', 'Oklahoma City Thunder'),\n",
       " ('Josh Huestis', 'SF', 'Oklahoma City Thunder'),\n",
       " ('Steve Novak', 'SF', 'Oklahoma City Thunder'),\n",
       " ('Tobias Harris', 'SF', 'Orlando Magic'),\n",
       " ('Nikola Vucevic', 'C', 'Orlando Magic'),\n",
       " ('Brandon Jennings', 'PG', 'Orlando Magic'),\n",
       " ('Channing Frye', 'PF', 'Orlando Magic'),\n",
       " ('Ersan Ilyasova', 'PF', 'Orlando Magic'),\n",
       " ('Victor Oladipo', 'SG', 'Orlando Magic'),\n",
       " ('Jason Smith', 'PF', 'Orlando Magic'),\n",
       " ('Aaron Gordon', 'PF', 'Orlando Magic'),\n",
       " ('Mario Hezonja', 'SG', 'Orlando Magic'),\n",
       " ('Elfrid Payton', 'PG', 'Orlando Magic'),\n",
       " ('Andrew Nicholson', 'PF', 'Orlando Magic'),\n",
       " ('Evan Fournier', 'SG', 'Orlando Magic'),\n",
       " ('Shabazz Napier', 'PG', 'Orlando Magic'),\n",
       " ('Keith Appling', 'PG', 'Orlando Magic'),\n",
       " ('Gerald Wallace', 'SF', 'Philadelphia 76ers'),\n",
       " ('Carl Landry', 'PF', 'Philadelphia 76ers'),\n",
       " ('Joel Embiid', 'C', 'Philadelphia 76ers'),\n",
       " ('Jahlil Okafor', 'C', 'Philadelphia 76ers'),\n",
       " ('Nerlens Noel', 'PF', 'Philadelphia 76ers'),\n",
       " ('Nik Stauskas', 'SG', 'Philadelphia 76ers'),\n",
       " ('Furkan Aldemir', 'PF', 'Philadelphia 76ers'),\n",
       " ('Tony Wroten', 'SG', 'Philadelphia 76ers'),\n",
       " ('Kendall Marshall', 'PG', 'Philadelphia 76ers'),\n",
       " ('Richaun Holmes', 'PF', 'Philadelphia 76ers'),\n",
       " ('Robert Covington', 'SF', 'Philadelphia 76ers'),\n",
       " ('Jerami Grant', 'SF', 'Philadelphia 76ers'),\n",
       " ('JaKarr Sampson', 'SG', 'Philadelphia 76ers'),\n",
       " ('Eric Bledsoe', 'PG', 'Phoenix Suns'),\n",
       " ('Tyson Chandler', 'C', 'Phoenix Suns'),\n",
       " ('Mirza Teletovic', 'PF', 'Phoenix Suns'),\n",
       " ('P.J. Tucker', 'SF', 'Phoenix Suns'),\n",
       " ('Alex Len', 'C', 'Phoenix Suns'),\n",
       " ('Devin Booker', 'SG', 'Phoenix Suns'),\n",
       " ('T.J. Warren', 'SF', 'Phoenix Suns'),\n",
       " ('Archie Goodwin', 'SG', 'Phoenix Suns'),\n",
       " ('Jon Leuer', 'PF', 'Phoenix Suns'),\n",
       " ('Jerel McNeal', 'SG', 'Phoenix Suns'),\n",
       " ('Terrico White', 'SG', 'Phoenix Suns'),\n",
       " ('Bryce Cotton', 'PG', 'Phoenix Suns'),\n",
       " ('Lorenzo Brown', 'PG', 'Phoenix Suns'),\n",
       " ('Orlando Johnson', 'SG', 'Phoenix Suns'),\n",
       " ('Phil Pressey', 'PG', 'Phoenix Suns'),\n",
       " ('Jordan McRae', 'SG', 'Phoenix Suns'),\n",
       " ('Cory Jefferson', 'PF', 'Phoenix Suns'),\n",
       " ('Al-Farouq Aminu', 'SF', 'Portland Trail Blazers'),\n",
       " ('Ed Davis', 'C', 'Portland Trail Blazers'),\n",
       " ('Gerald Henderson', 'SG', 'Portland Trail Blazers'),\n",
       " ('Chris Kaman', 'C', 'Portland Trail Blazers'),\n",
       " ('Damian Lillard', 'PG', 'Portland Trail Blazers'),\n",
       " ('Meyers Leonard', 'PF', 'Portland Trail Blazers'),\n",
       " ('Maurice Harkless', 'SF', 'Portland Trail Blazers'),\n",
       " ('Noah Vonleh', 'PF', 'Portland Trail Blazers'),\n",
       " ('C.J. McCollum', 'SG', 'Portland Trail Blazers'),\n",
       " ('Mason Plumlee', 'C', 'Portland Trail Blazers'),\n",
       " ('Allen Crabbe', 'SG', 'Portland Trail Blazers'),\n",
       " ('Pat Connaughton', 'SG', 'Portland Trail Blazers'),\n",
       " ('Luis Montero', 'SG', 'Portland Trail Blazers'),\n",
       " ('Cliff Alexander', 'PF', 'Portland Trail Blazers'),\n",
       " ('DeMarcus Cousins', 'C', 'Sacramento Kings'),\n",
       " ('Rudy Gay', 'SF', 'Sacramento Kings'),\n",
       " ('Rajon Rondo', 'PG', 'Sacramento Kings'),\n",
       " ('Kosta Koufos', 'C', 'Sacramento Kings'),\n",
       " ('Marco Belinelli', 'SG', 'Sacramento Kings'),\n",
       " ('Darren Collison', 'PG', 'Sacramento Kings'),\n",
       " ('Willie Cauley-Stein', 'C', 'Sacramento Kings'),\n",
       " ('Ben McLemore', 'SG', 'Sacramento Kings'),\n",
       " ('Omri Casspi', 'SF', 'Sacramento Kings'),\n",
       " ('Caron Butler', 'SF', 'Sacramento Kings'),\n",
       " ('James Anderson', 'SG', 'Sacramento Kings'),\n",
       " ('LaMarcus Aldridge', 'PF', 'San Antonio Spurs'),\n",
       " ('Kawhi Leonard', 'SF', 'San Antonio Spurs'),\n",
       " ('Tony Parker', 'PG', 'San Antonio Spurs'),\n",
       " ('Danny Green', 'SG', 'San Antonio Spurs'),\n",
       " ('Boris Diaw', 'C', 'San Antonio Spurs'),\n",
       " ('Tim Duncan', 'C', 'San Antonio Spurs'),\n",
       " ('Patty Mills', 'PG', 'San Antonio Spurs'),\n",
       " ('Manu Ginobili', 'SG', 'San Antonio Spurs'),\n",
       " ('David West', 'PF', 'San Antonio Spurs'),\n",
       " ('Boban Marjanovic', 'C', 'San Antonio Spurs'),\n",
       " ('Reggie Williams', 'SF', 'San Antonio Spurs'),\n",
       " ('Kyle Anderson', 'SF', 'San Antonio Spurs'),\n",
       " ('Ray McCallum', 'PG', 'San Antonio Spurs'),\n",
       " ('DeMarre Carroll', 'SF', 'Toronto Raptors'),\n",
       " ('Kyle Lowry', 'PG', 'Toronto Raptors'),\n",
       " ('DeMar DeRozan', 'SG', 'Toronto Raptors'),\n",
       " ('Cory Joseph', 'PG', 'Toronto Raptors'),\n",
       " ('Patrick Patterson', 'PF', 'Toronto Raptors'),\n",
       " ('Jonas Valanciunas', 'C', 'Toronto Raptors'),\n",
       " ('Terrence Ross', 'SF', 'Toronto Raptors'),\n",
       " ('Luis Scola', 'PF', 'Toronto Raptors'),\n",
       " ('Bismack Biyombo', 'C', 'Toronto Raptors'),\n",
       " ('Luke Ridnour', 'PG', 'Toronto Raptors'),\n",
       " ('James Johnson', 'PF', 'Toronto Raptors'),\n",
       " ('Lucas Nogueira', 'C', 'Toronto Raptors'),\n",
       " ('Bruno Caboclo', 'SF', 'Toronto Raptors'),\n",
       " ('Delon Wright', 'PG', 'Toronto Raptors'),\n",
       " ('Norman Powell', 'SG', 'Toronto Raptors'),\n",
       " ('Shannon Scott', 'PG', 'Toronto Raptors'),\n",
       " ('Ronald Roberts Jr.', 'PF', 'Toronto Raptors'),\n",
       " ('Gordon Hayward', 'SF', 'Utah Jazz'),\n",
       " ('Alec Burks', 'SG', 'Utah Jazz'),\n",
       " ('Trevor Booker', 'PF', 'Utah Jazz'),\n",
       " ('Dante Exum', 'PG', 'Utah Jazz'),\n",
       " ('Tibor Pleiss', 'C', 'Utah Jazz'),\n",
       " ('Trey Burke', 'PG', 'Utah Jazz'),\n",
       " ('Shelvin Mack', 'PG', 'Utah Jazz'),\n",
       " ('Trey Lyles', 'PF', 'Utah Jazz'),\n",
       " ('Joe Ingles', 'SF', 'Utah Jazz'),\n",
       " ('Rodney Hood', 'SG', 'Utah Jazz'),\n",
       " ('Rudy Gobert', 'C', 'Utah Jazz'),\n",
       " ('Chris Johnson', 'SF', 'Utah Jazz'),\n",
       " ('Grant Jerrett', 'PF', 'Utah Jazz'),\n",
       " ('Jeff Withey', 'C', 'Utah Jazz'),\n",
       " ('Raul Neto', 'PG', 'Utah Jazz'),\n",
       " ('Treveon Graham', 'SG', 'Utah Jazz'),\n",
       " ('Erick Green', 'PG', 'Utah Jazz'),\n",
       " ('John Wall', 'PG', 'Washington Wizards'),\n",
       " ('Nene Hilario', 'C', 'Washington Wizards'),\n",
       " ('Marcin Gortat', 'C', 'Washington Wizards'),\n",
       " ('Markieff Morris', 'PF', 'Washington Wizards'),\n",
       " ('Bradley Beal', 'SG', 'Washington Wizards'),\n",
       " ('Martell Webster', 'SF', 'Washington Wizards'),\n",
       " ('Otto Porter Jr.', 'SF', 'Washington Wizards'),\n",
       " ('Kris Humphries', 'PF', 'Washington Wizards'),\n",
       " ('Jared Dudley', 'SF', 'Washington Wizards'),\n",
       " ('Alan Anderson', 'SG', 'Washington Wizards'),\n",
       " ('Drew Gooden', 'PF', 'Washington Wizards'),\n",
       " ('Ramon Sessions', 'PG', 'Washington Wizards'),\n",
       " ('Gary Neal', 'PG', 'Washington Wizards'),\n",
       " ('DeJuan Blair', 'C', 'Washington Wizards'),\n",
       " ('Kelly Oubre Jr.', 'SF', 'Washington Wizards'),\n",
       " ('Garrett Temple', 'SG', 'Washington Wizards'),\n",
       " ('Jarell Eddie', 'SG', 'Washington Wizards')]"
      ]
     },
     "execution_count": 35,
     "metadata": {},
     "output_type": "execute_result"
    }
   ],
   "source": [
    "nba_db.execute(\"select PLAYER, POSITION, TEAM from nba;\").fetchall()"
   ]
  },
  {
   "cell_type": "code",
   "execution_count": 36,
   "metadata": {},
   "outputs": [
    {
     "data": {
      "text/html": [
       "<table border=\"1\" class=\"dataframe\">\n",
       "    <thead>\n",
       "        <tr>\n",
       "            <th>PLAYER</th> <th>POSITION</th> <th>TEAM</th> <th>SALARY</th>\n",
       "        </tr>\n",
       "    </thead>\n",
       "    <tbody>\n",
       "        <tr>\n",
       "            <td>Paul Millsap    </td> <td>PF      </td> <td>Atlanta Hawks</td> <td>18.6717</td>\n",
       "        </tr>\n",
       "    </tbody>\n",
       "        <tr>\n",
       "            <td>Al Horford      </td> <td>C       </td> <td>Atlanta Hawks</td> <td>12     </td>\n",
       "        </tr>\n",
       "    </tbody>\n",
       "        <tr>\n",
       "            <td>Tiago Splitter  </td> <td>C       </td> <td>Atlanta Hawks</td> <td>9.75625</td>\n",
       "        </tr>\n",
       "    </tbody>\n",
       "        <tr>\n",
       "            <td>Jeff Teague     </td> <td>PG      </td> <td>Atlanta Hawks</td> <td>8      </td>\n",
       "        </tr>\n",
       "    </tbody>\n",
       "        <tr>\n",
       "            <td>Kyle Korver     </td> <td>SG      </td> <td>Atlanta Hawks</td> <td>5.74648</td>\n",
       "        </tr>\n",
       "    </tbody>\n",
       "        <tr>\n",
       "            <td>Thabo Sefolosha </td> <td>SF      </td> <td>Atlanta Hawks</td> <td>4      </td>\n",
       "        </tr>\n",
       "    </tbody>\n",
       "        <tr>\n",
       "            <td>Mike Scott      </td> <td>PF      </td> <td>Atlanta Hawks</td> <td>3.33333</td>\n",
       "        </tr>\n",
       "    </tbody>\n",
       "        <tr>\n",
       "            <td>Kent Bazemore   </td> <td>SF      </td> <td>Atlanta Hawks</td> <td>2      </td>\n",
       "        </tr>\n",
       "    </tbody>\n",
       "        <tr>\n",
       "            <td>Dennis Schroder </td> <td>PG      </td> <td>Atlanta Hawks</td> <td>1.7634 </td>\n",
       "        </tr>\n",
       "    </tbody>\n",
       "        <tr>\n",
       "            <td>Tim Hardaway Jr.</td> <td>SG      </td> <td>Atlanta Hawks</td> <td>1.30452</td>\n",
       "        </tr>\n",
       "    </tbody>\n",
       "</table>\n",
       "<p>... (4 rows omitted)</p"
      ],
      "text/plain": [
       "PLAYER           | POSITION | TEAM          | SALARY\n",
       "Paul Millsap     | PF       | Atlanta Hawks | 18.6717\n",
       "Al Horford       | C        | Atlanta Hawks | 12\n",
       "Tiago Splitter   | C        | Atlanta Hawks | 9.75625\n",
       "Jeff Teague      | PG       | Atlanta Hawks | 8\n",
       "Kyle Korver      | SG       | Atlanta Hawks | 5.74648\n",
       "Thabo Sefolosha  | SF       | Atlanta Hawks | 4\n",
       "Mike Scott       | PF       | Atlanta Hawks | 3.33333\n",
       "Kent Bazemore    | SF       | Atlanta Hawks | 2\n",
       "Dennis Schroder  | PG       | Atlanta Hawks | 1.7634\n",
       "Tim Hardaway Jr. | SG       | Atlanta Hawks | 1.30452\n",
       "... (4 rows omitted)"
      ]
     },
     "execution_count": 36,
     "metadata": {},
     "output_type": "execute_result"
    }
   ],
   "source": [
    "nba.where('TEAM', 'Atlanta Hawks')"
   ]
  },
  {
   "cell_type": "markdown",
   "metadata": {},
   "source": [
    "SQL equivalent\n",
    "\n",
    "```\n",
    "select * from nba_raw where TEAM = \"Atlanta Hawks\";\n",
    "```\n"
   ]
  },
  {
   "cell_type": "code",
   "execution_count": 37,
   "metadata": {},
   "outputs": [
    {
     "data": {
      "text/plain": [
       "[('Paul Millsap', 'PF', 'Atlanta Hawks', 18.671659),\n",
       " ('Al Horford', 'C', 'Atlanta Hawks', 12.0),\n",
       " ('Tiago Splitter', 'C', 'Atlanta Hawks', 9.75625),\n",
       " ('Jeff Teague', 'PG', 'Atlanta Hawks', 8.0),\n",
       " ('Kyle Korver', 'SG', 'Atlanta Hawks', 5.746479),\n",
       " ('Thabo Sefolosha', 'SF', 'Atlanta Hawks', 4.0),\n",
       " ('Mike Scott', 'PF', 'Atlanta Hawks', 3.333333),\n",
       " ('Kent Bazemore', 'SF', 'Atlanta Hawks', 2.0),\n",
       " ('Dennis Schroder', 'PG', 'Atlanta Hawks', 1.7634),\n",
       " ('Tim Hardaway Jr.', 'SG', 'Atlanta Hawks', 1.30452),\n",
       " ('Walter Tavares', 'C', 'Atlanta Hawks', 1.0),\n",
       " ('Jason Richardson', 'SG', 'Atlanta Hawks', 0.947276),\n",
       " ('Lamar Patterson', 'SG', 'Atlanta Hawks', 0.525093),\n",
       " ('Terran Petteway', 'SG', 'Atlanta Hawks', 0.525093)]"
      ]
     },
     "execution_count": 37,
     "metadata": {},
     "output_type": "execute_result"
    }
   ],
   "source": [
    "nba_db.execute('select * from nba where TEAM = \"Atlanta Hawks\";').fetchall()"
   ]
  },
  {
   "cell_type": "code",
   "execution_count": 38,
   "metadata": {
    "scrolled": true
   },
   "outputs": [
    {
     "data": {
      "text/html": [
       "<table border=\"1\" class=\"dataframe\">\n",
       "    <thead>\n",
       "        <tr>\n",
       "            <th>PLAYER</th> <th>POSITION</th> <th>TEAM</th> <th>SALARY</th>\n",
       "        </tr>\n",
       "    </thead>\n",
       "    <tbody>\n",
       "        <tr>\n",
       "            <td>Paul Millsap    </td> <td>PF      </td> <td>Atlanta Hawks        </td> <td>18.6717</td>\n",
       "        </tr>\n",
       "    </tbody>\n",
       "        <tr>\n",
       "            <td>Joe Johnson     </td> <td>SF      </td> <td>Brooklyn Nets        </td> <td>24.8949</td>\n",
       "        </tr>\n",
       "    </tbody>\n",
       "        <tr>\n",
       "            <td>Derrick Rose    </td> <td>PG      </td> <td>Chicago Bulls        </td> <td>20.0931</td>\n",
       "        </tr>\n",
       "    </tbody>\n",
       "        <tr>\n",
       "            <td>Jimmy Butler    </td> <td>SG      </td> <td>Chicago Bulls        </td> <td>16.4075</td>\n",
       "        </tr>\n",
       "    </tbody>\n",
       "        <tr>\n",
       "            <td>LeBron James    </td> <td>SF      </td> <td>Cleveland Cavaliers  </td> <td>22.9705</td>\n",
       "        </tr>\n",
       "    </tbody>\n",
       "        <tr>\n",
       "            <td>Kevin Love      </td> <td>PF      </td> <td>Cleveland Cavaliers  </td> <td>19.689 </td>\n",
       "        </tr>\n",
       "    </tbody>\n",
       "        <tr>\n",
       "            <td>Kyrie Irving    </td> <td>PG      </td> <td>Cleveland Cavaliers  </td> <td>16.4075</td>\n",
       "        </tr>\n",
       "    </tbody>\n",
       "        <tr>\n",
       "            <td>David Lee       </td> <td>PF      </td> <td>Dallas Mavericks     </td> <td>15.4937</td>\n",
       "        </tr>\n",
       "    </tbody>\n",
       "        <tr>\n",
       "            <td>Chandler Parsons</td> <td>SF      </td> <td>Dallas Mavericks     </td> <td>15.3615</td>\n",
       "        </tr>\n",
       "    </tbody>\n",
       "        <tr>\n",
       "            <td>Klay Thompson   </td> <td>SG      </td> <td>Golden State Warriors</td> <td>15.501 </td>\n",
       "        </tr>\n",
       "    </tbody>\n",
       "</table>\n",
       "<p>... (21 rows omitted)</p"
      ],
      "text/plain": [
       "PLAYER           | POSITION | TEAM                  | SALARY\n",
       "Paul Millsap     | PF       | Atlanta Hawks         | 18.6717\n",
       "Joe Johnson      | SF       | Brooklyn Nets         | 24.8949\n",
       "Derrick Rose     | PG       | Chicago Bulls         | 20.0931\n",
       "Jimmy Butler     | SG       | Chicago Bulls         | 16.4075\n",
       "LeBron James     | SF       | Cleveland Cavaliers   | 22.9705\n",
       "Kevin Love       | PF       | Cleveland Cavaliers   | 19.689\n",
       "Kyrie Irving     | PG       | Cleveland Cavaliers   | 16.4075\n",
       "David Lee        | PF       | Dallas Mavericks      | 15.4937\n",
       "Chandler Parsons | SF       | Dallas Mavericks      | 15.3615\n",
       "Klay Thompson    | SG       | Golden State Warriors | 15.501\n",
       "... (21 rows omitted)"
      ]
     },
     "execution_count": 38,
     "metadata": {},
     "output_type": "execute_result"
    }
   ],
   "source": [
    "nba.where(nba['SALARY'] > 15)"
   ]
  },
  {
   "cell_type": "code",
   "execution_count": 39,
   "metadata": {},
   "outputs": [
    {
     "data": {
      "text/plain": [
       "[('Paul Millsap', 18.671659),\n",
       " ('Joe Johnson', 24.894863),\n",
       " ('Derrick Rose', 20.093064),\n",
       " ('Jimmy Butler', 16.4075),\n",
       " ('LeBron James', 22.9705),\n",
       " ('Kevin Love', 19.689),\n",
       " ('Kyrie Irving', 16.407501),\n",
       " ('David Lee', 15.49368),\n",
       " ('Chandler Parsons', 15.3615),\n",
       " ('Klay Thompson', 15.501),\n",
       " ('Dwight Howard', 22.359364000000006),\n",
       " ('James Harden', 15.756438),\n",
       " ('Paul George', 17.120106),\n",
       " ('Chris Paul', 21.468695),\n",
       " ('Blake Griffin', 18.907726),\n",
       " ('Kobe Bryant', 25.0),\n",
       " ('Roy Hibbert', 15.592217000000002),\n",
       " ('Marc Gasol', 19.688),\n",
       " ('Chris Bosh', 22.19273),\n",
       " ('Dwyane Wade', 20.0),\n",
       " ('Eric Gordon', 15.514031),\n",
       " ('Carmelo Anthony', 22.875),\n",
       " ('Kevin Durant', 20.158622),\n",
       " ('Russell Westbrook', 16.744218),\n",
       " ('Enes Kanter', 16.4075),\n",
       " ('Tobias Harris', 16.0),\n",
       " ('DeMarcus Cousins', 15.85195),\n",
       " ('LaMarcus Aldridge', 19.689),\n",
       " ('Kawhi Leonard', 16.4075),\n",
       " ('Gordon Hayward', 15.40957),\n",
       " ('John Wall', 15.85195)]"
      ]
     },
     "execution_count": 39,
     "metadata": {},
     "output_type": "execute_result"
    }
   ],
   "source": [
    "nba_db.execute('select PLAYER, SALARY from nba where SALARY > 15').fetchall()"
   ]
  },
  {
   "cell_type": "markdown",
   "metadata": {},
   "source": [
    "## Exploring this in the sqlite3 session\n",
    "\n",
    "Try this using the nba_raw table in the nba_salaries database imported as above.  You will see some of the common subtleties of data types.\n",
    "\n",
    "```\n",
    "select PLAYER, SALARY from nba_raw where SALARY > 10 limit 10;\n",
    "\n",
    "select PLAYER, SALARY from nba_raw where cast(SALARY as int) > 10 limit 10;\n",
    "```\n",
    "Why isn't this working?\n",
    "\n",
    "At the command line we could do\n",
    "```\n",
    ".schema raw_nba\n",
    "```\n",
    "But within SQL itself we can get to this information because sqlite3\n",
    "holds its own information in (hidden) tables.\n",
    "\n",
    "```\n",
    "select * from sqlite_master;\n",
    "select sql from sqlite_master where name=\"nba_raw\";\n",
    "```\n",
    "We can create a new table from an existing one and get the type specified in the process.\n",
    "\n",
    "```\n",
    "create table nba as\n",
    "    select PLAYER, POSITION, TEAM, cast(SALARY as REAL) as SALARY from nba_raw;\n",
    "    \n",
    "select * from nba where SALARY > 15 order by SALARY;\n",
    "```"
   ]
  },
  {
   "cell_type": "markdown",
   "metadata": {},
   "source": [
    "### LIKE operator\n",
    "\n",
    "```\n",
    "select * from nba where TEAM like \"Atlanta%\";\n",
    "```\n",
    "Try this out\n",
    "```\n",
    "sqlite> select * from nba where TEAM like \"Atlanta%\";\n",
    "PLAYER,POSITION,TEAM,SALARY\n",
    "\"Paul Millsap\",PF,\"Atlanta Hawks\",18.671659\n",
    "\"Al Horford\",C,\"Atlanta Hawks\",12.0\n",
    "\"Tiago Splitter\",C,\"Atlanta Hawks\",9.75625\n",
    "\"Jeff Teague\",PG,\"Atlanta Hawks\",8.0\n",
    "\"Kyle Korver\",SG,\"Atlanta Hawks\",5.746479\n",
    "\"Thabo Sefolosha\",SF,\"Atlanta Hawks\",4.0\n",
    "\"Mike Scott\",PF,\"Atlanta Hawks\",3.333333\n",
    "\"Kent Bazemore\",SF,\"Atlanta Hawks\",2.0\n",
    "\"Dennis Schroder\",PG,\"Atlanta Hawks\",1.7634\n",
    "\"Tim Hardaway Jr.\",SG,\"Atlanta Hawks\",1.3045200000000001\n",
    "\"Walter Tavares\",C,\"Atlanta Hawks\",1.0\n",
    "\"Jason Richardson\",SG,\"Atlanta Hawks\",0.947276\n",
    "\"Lamar Patterson\",SG,\"Atlanta Hawks\",0.525093\n",
    "\"Terran Petteway\",SG,\"Atlanta Hawks\",0.525093\n",
    "sqlite> \n",
    "```"
   ]
  },
  {
   "cell_type": "code",
   "execution_count": null,
   "metadata": {
    "collapsed": true
   },
   "outputs": [],
   "source": [
    "nba_db.execute('select * from nba where TEAM like \"Atlanta%\";').fetchall()"
   ]
  },
  {
   "cell_type": "markdown",
   "metadata": {},
   "source": [
    "### Further Reading\n",
    "To learn more about SQL and get some more practice with it, feel free to check out the following links as resources:\n",
    "* [SQL Zoo](https://sqlzoo.net/)\n",
    "* [Mode Analytics](https://mode.com/)\n",
    "* [W3Schools](https://www.w3resource.com/sql/tutorials.php)\n",
    "\n",
    "Stack Overflow and Google are also great ways to learn more from people who are also working with and learning about SQL as well, definitely use them in your path to learning more about data science and SQL!"
   ]
  },
  {
   "cell_type": "code",
   "execution_count": null,
   "metadata": {
    "collapsed": true
   },
   "outputs": [],
   "source": []
  }
 ],
 "metadata": {
  "anaconda-cloud": {},
  "kernelspec": {
   "display_name": "Python 3",
   "language": "python",
   "name": "python3"
  },
  "language_info": {
   "codemirror_mode": {
    "name": "ipython",
    "version": 3
   },
   "file_extension": ".py",
   "mimetype": "text/x-python",
   "name": "python",
   "nbconvert_exporter": "python",
   "pygments_lexer": "ipython3",
   "version": "3.6.5"
  }
 },
 "nbformat": 4,
 "nbformat_minor": 2
}
