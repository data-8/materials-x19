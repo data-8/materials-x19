{
 "cells": [
  {
   "cell_type": "markdown",
   "metadata": {},
   "source": [
    "# Introduction to Jupyter Notebooks"
   ]
  },
  {
   "cell_type": "markdown",
   "metadata": {},
   "source": [
    "This notebook is an introductory notebook to help learn about what Jupyter Notebooks are, how you can use it, shortcuts for some common actions, and information about Gofer Grader which is used in this Data 8X course. "
   ]
  },
  {
   "cell_type": "markdown",
   "metadata": {},
   "source": [
    "## What is a Jupyter Notebook?"
   ]
  },
  {
   "cell_type": "markdown",
   "metadata": {},
   "source": [
    "A Jupyter Notebook is a file/notebook that can contain both code and regular text (like this paragraph here!) as well as math formulas, images, links, and more. The fact that a Jupyter Notebook can contains all of these various elements makes it a valuable tool for people, especially when doing data analysis, since the analysis description and the results can be contained in the same document. \n",
    "\n",
    "There are two ways to run and execute a Jupyter notebook:\n",
    "1. On a local Desktop (which requires no internet access)\n",
    "2. On a remote server (many Berkeley classes like Data 8X and Data 100 use this option so you can save your work and submit it online)\n",
    "\n",
    "Every notebook has something called a ** kernel **, which acts as the operation part of the notebook. With the kernel, we can execute the lines of code that are in a notebook. When you open a notebook, the kernel associated with that notebook is automatically launched as well. When we execute or run a notebook (more on this down below), the kernel performs the computations and then returns the results. To see when the kernel is running/executing, you can look at the top right hand corner of your notebook, at a circle. If the circle is gray/filled in, the kernel is currently executing cells. If the circle is not filled in, the kernel is not currently executing cells. In the diagram below, the circle shows us that the kernel is not executing anything at the moment. \n",
    "\n",
    "<img src=\"intro_jupyter_images/circle.png\">\n",
    "\n",
    "When you first open your Jupyter Notebook, you are given an empty cell that you are free to edit. Cells can be of different types based on the content you want to write in it. Any Python code that is written will be in a \"Code\" cell, while paragraphs and images will be in a \"Markdown\" cell. \n",
    "\n",
    "Cells can also be in Edit Mode or Command Mode. When a cell is in edit mode, in the top right corner of the menu, there will be a pencil icon (as shown in the image above). When the cell is in command mode, this icon will not be there. Based on which mode the cell is in, we can do different actions/shortcuts."
   ]
  },
  {
   "cell_type": "markdown",
   "metadata": {},
   "source": [
    "### Actions you can do in a Jupyter Notebook\n",
    "There are many different actions that you can do once you are within a notebook, a lot of which is in the top toolbar (containing icons) or the \"File Edit View ...\" menu. In this section, we will go over some common actions you can take to use your notebook. "
   ]
  },
  {
   "cell_type": "markdown",
   "metadata": {
    "collapsed": true
   },
   "source": [
    "#### Change Type of Cell\n",
    "Based on what purpose you are using your Jupyter Notebook for, you may want one type of cell or various types of cells within your notebook. The most common types of cells are Markdown cells and Code cells, which exist among Heading cells and Raw NBConvert cells. For any cells in your notebook, you can change what type of cell it is by selecting the cell you want to change and then going to the top toolbar and looking for the drop down menu with all the types options (as shown in the diagram below). \n",
    "<img src=\"intro_jupyter_images/toolbar.png\">\n",
    "\n",
    "<img src=\"intro_jupyter_images/typecell.png\">"
   ]
  },
  {
   "cell_type": "markdown",
   "metadata": {},
   "source": [
    "#### Add a Cell\n",
    "In order to add a cell to your notebook, select an existing cell and then navigate to the toolbar and click on the plus symbol. A cell will be added, below the cell you selected before. The cell will be default be a \"Code\" type cell. "
   ]
  },
  {
   "cell_type": "markdown",
   "metadata": {},
   "source": [
    "#### Delete a Cell \n",
    "To delete a cell from your notebook, select the cell you want to delete (by clicking on the cell) and then navigate to the menu at the top and do `Edit -> Delete Cells`."
   ]
  },
  {
   "cell_type": "markdown",
   "metadata": {},
   "source": [
    "#### Run Cells\n",
    "To run a single cell (so the kernel can evaluate what is in the cell), select the cell and then navigate to the menu and do: `Cell -> Run Cells`.\n",
    "\n",
    "To run a single cell and then select the next cell after the evaluation is complete, select the cell and then navigate to the menu and do: `Cell -> Run Cells and Select Below`. This can also be done by selecting the cell, going to the toolbar and clicking on the step icon (the triangle with a line on the right side). \n",
    "\n",
    "To run a single cell and then add a new cell after the evaluation is complete, select the cell and then navigate to the menu and do: `Cell -> Run Cells and Insert Below`.\n",
    "\n",
    "To run all the cells in the notebook, navigate to the menu and do: `Cell -> Run All`.\n",
    "\n",
    "To run all the cells above a certain cell, click on the cell then navigate to the menu and do: `Cell -> Run All Above`.\n",
    "\n",
    "To run all the cells below a certain cell, click on the cell then navigate to the menu and do: `Cell -> Run All Below`."
   ]
  },
  {
   "cell_type": "markdown",
   "metadata": {},
   "source": [
    "#### Stop Executing\n",
    "Suppose you run a cell (which is taking a long time to finish), and you want to stop the kernel from executing it. Simply closing the window that your notebook is in will not make the kernel stop executing. To do this, you can go to the menu and select `Kernel -> Interrupt`. Alternatively, you can go to toolbar and press the stop icon (the full black square). Doing either of these actions will stop the kernel from executing the current cell."
   ]
  },
  {
   "cell_type": "markdown",
   "metadata": {},
   "source": [
    "#### Other Kernel Actions\n",
    "There are other actions (besides interrupting) that you can do with your kernel. These actions are in the menu under `Kernel`. \n",
    "\n",
    "`Kernel -> Restart`: This restarts the kernel and refreshes all the current variables in the kernel (variables are lost). The notebook cells are NOT run automatically but the output from the cells from before the restart are still there on the screen.\n",
    "\n",
    "`Kernel -> Restart & Clear Output`: This restarts the kernel and refreshes all the current variables in the kernel (variables are lost). The notebook cells are NOT run automatically and the output from the cells from before the restart are cleared from the screen.\n",
    "\n",
    "`Kernel -> Restart & Run All`: This restarts your kernel (and refreshes all the outputs/variables previously computed) and then runs all the cells in the notebook from the top. \n",
    "\n",
    "`Kernel -> Reconnect`: This helps to reconnect to the kernel in the case that your kernel disconnects or is having a problem. If your kernel is not working, you can try this action so that you can connect and execute with the kernel again.\n",
    "\n",
    "`Kernel -> Shutdown`: This shuts down the kernel so it will not be running or executing or taking up memory/storage."
   ]
  },
  {
   "cell_type": "markdown",
   "metadata": {},
   "source": [
    "#### Markdown Cells\n",
    "Markdown cells can contain text, photos, videos, even code chunks that cannot be executed. To insert these elements and change the text (headings, bold, italics, links, etc), there is a language called Markdown Language. \n",
    "\n",
    "With Markdown you can:\n",
    "\n",
    "Make text **bold** by surrounding the text with double asterisks or double underscores.\n",
    "\n",
    "\n",
    "Make text *italicized* by surrounding the text with single asterisks or single underscores.\n",
    "\n",
    "\n",
    "* Create bulleted lists\n",
    "* By adding \n",
    "* An asterisk and a space and then your text\n",
    "\n",
    "\n",
    "Insert a [link](https://medium.com/ibm-data-science-experience/markdown-for-jupyter-notebooks-cheatsheet-386c05aeebed) into your text, by surrounding the text with brackets and immediately putting your url with parentheses around it.\n",
    "\n",
    "\n",
    "Add headings by starting a line with one or more # followed by a space and your heading text,\n",
    "### Like\n",
    "## this\n",
    "# example\n",
    "\n",
    "\n",
    "You can also embed code for illustration purposes (not execution) by surrounding the code with a single backtick, like `x = 5`.\n",
    "\n",
    "\n",
    "It is also possible to include mathematical equations by surrounding the expression with single dollar signs. The way you write the math formulas follows LaTeX rules. To have the expression on its own line, surround the expression with double dollar signs.\n",
    "$e^x=\\sum_{i=0}^\\infty \\frac{1}{i!}x^i$ \n",
    "$$e^x=\\sum_{i=0}^\\infty \\frac{1}{i!}x^i$$\n",
    "\n",
    "\n",
    "There are many more commands and tricks you can do with Markdown, check out this cheat sheet for more tips: https://medium.com/ibm-data-science-experience/markdown-for-jupyter-notebooks-cheatsheet-386c05aeebed.\n"
   ]
  },
  {
   "cell_type": "markdown",
   "metadata": {},
   "source": [
    "#### Save Notebook\n",
    "To save your notebook in the location where it is currently, you can click on the save icon in the leftmost side of the toolbar or go to File -> Save and Checkpoint in the Menu. Checkpoints are created with this command so you are able to go back to the checkpoint if needed (similar to Google Docs and how you can see previous edits and versions of the document). "
   ]
  },
  {
   "cell_type": "markdown",
   "metadata": {},
   "source": [
    "#### Cut, Copy, Paste Cells\n",
    "Similar to how you can cut, copy, and paste text in other editors like Google Docs or Word, you can do the same with cells in Jupyter Notebook. To do any of these commands you can select the cells and then navigate to the toolbar - the scissor icon is the Cut command, the double pages icon next to it is the Copy command, and the clipboard and page icon next to that is the Paste icon. Alternatively, you can do the same commands by going to the Menu and clicking Edit (where there are commands Cut Cells, Copy Cells, Paste Cells Above, Paste Cells Below, Paste Cells and Replace)."
   ]
  },
  {
   "cell_type": "markdown",
   "metadata": {},
   "source": [
    "#### Move Cells Up and Down \n",
    "It is also possible to move cells up or down if you want to change their location within the notebook. This can be done by selecting the cell(s) and clicking the up or down icons (based on where you want the cell to be). Each time the buttons is pressed, the cell selected will move one cell in that direction. This can also be done with Edit -> Move Cell Up or Move Cell Down."
   ]
  },
  {
   "cell_type": "markdown",
   "metadata": {},
   "source": [
    "## Jupyter Notebook Shortcuts\n",
    "In the previous section, we talked about various actions we can do within a Jupyter Notebook. All of these actions required going to the Toolbar or the Menu at the top of the notebook. Doing this for every single action can be tiring, so luckily for us, there are a number of neat shortcuts to help us do the same actions.\n",
    "\n",
    "Some of these shortcuts require you to be in the Edit Mode or the Command Mode of a cell. Remember, you are in Edit Mode if you can see the pencil icon in the top right corner of the Menu. \n",
    "\n",
    "To activate command mode, press `Esc` and to activate Edit Mode, press `Enter`. \n",
    "\n",
    "Below the shortcuts are grouped based on what mode you are in."
   ]
  },
  {
   "cell_type": "markdown",
   "metadata": {
    "collapsed": true
   },
   "source": [
    "#### Shortcuts for Both Modes\n",
    "* Run the current cell and select below: `Shift + Enter`\n",
    "* Run the selected cell: `Ctrl + Enter`\n",
    "* Run the current cell and insert cell below: `Alt + Enter`\n",
    "* Save and checkpoint: `Ctrl + S`\n",
    "\n",
    "\n",
    "#### Shortcuts while in Command Mode\n",
    "* Show all shortcuts: `H`\n",
    "* Select cell above: `Up`\n",
    "* Select cell below: `Down`\n",
    "* Extend selected cells above: `Shift + Up`\n",
    "* Extend selected cells below: `Shift + Down`\n",
    "* Insert cell above: `A`\n",
    "* Insert cell below: `B`\n",
    "* Cut selected cells: `X`\n",
    "* Copy selected cells: `C`\n",
    "* Paste cells above: `Shift + V`\n",
    "* Paste cells below: `V`\n",
    "* Delete selected cells: `D, D` (press `D` key twice)\n",
    "* Undo deleting cell: `Z`\n",
    "* Save and checkpoint: `S`\n",
    "* Change to Code cell type: `Y`\n",
    "* Change to Markdown cell type: `M`\n",
    "* Scroll notebook up: `Shift + Space`\n",
    "* Scroll notebook down: `Space`\n",
    "\n",
    "\n",
    "#### Shortcuts while in Edit Mode\n",
    "Many of these are similar to other text editors because we are doing them in Edit Mode.\n",
    "* Code completion or indent: `Tab`\n",
    "* Indent: `Ctrl + ]`\n",
    "* Dedent: `Ctrl + [`\n",
    "* Select all: `Ctrl + A`\n",
    "* Undo: ` Ctrl + Z`\n",
    "* Redo: ` Ctrl + Y`\n",
    "* Go to left of line: `Ctrl + Left`\n",
    "* Go to right of line: `Ctrl + Right`\n",
    "* Move cursor down: `Down`\n",
    "* Move cursor up: `Up`\n",
    "\n",
    "There are other shortcuts that also exist, many of them are documented online as well as in the Jupyter Notebook documentation."
   ]
  },
  {
   "cell_type": "markdown",
   "metadata": {},
   "source": [
    "## Submitting Assignments and the Grader "
   ]
  },
  {
   "cell_type": "markdown",
   "metadata": {
    "collapsed": true
   },
   "source": [
    "In the course, you may have to submit assignments for grading. To submit assignments, you can navigate to the right side of the toolbar and select the button labeled `Submit` as shown below.\n",
    "\n",
    "<img src=\"intro_jupyter_images/submit.png\">\n",
    "\n",
    "To grade assignments in the course, there will be a grader called Gofer Grader. When you submit assignments, the grader goes through your assignment and grades it. At the bottom of an assignment, under the Submission header, you may see some lines of code that look like this: \n",
    "\n",
    "<img src=\"intro_jupyter_images/gofer.png\">\n",
    "\n",
    "These lines of code import the grader and run all of the tests in the notebook. You can see what the tests are in the notebook by identifying the code cells with the format `check(test/...)`. These tests/checks are placed after a question usually, in order to see if you have gotten the question correct. If the question is correct, you should see something that looks similar to this:\n",
    "\n",
    "<img src=\"intro_jupyter_images/checkpass.png\">\n",
    "\n",
    "If you have gotten the question wrong and therefore \"failed\" the check, you will see something like this:\n",
    "\n",
    "<img src=\"intro_jupyter_images/checkfail.png\">\n",
    "\n",
    "If you get this result, make sure to go back to your code that was being tested and change it before submitting!"
   ]
  },
  {
   "cell_type": "code",
   "execution_count": null,
   "metadata": {
    "collapsed": true
   },
   "outputs": [],
   "source": []
  }
 ],
 "metadata": {
  "kernelspec": {
   "display_name": "Python 3",
   "language": "python",
   "name": "python3"
  },
  "language_info": {
   "codemirror_mode": {
    "name": "ipython",
    "version": 3
   },
   "file_extension": ".py",
   "mimetype": "text/x-python",
   "name": "python",
   "nbconvert_exporter": "python",
   "pygments_lexer": "ipython3",
   "version": "3.6.5"
  }
 },
 "nbformat": 4,
 "nbformat_minor": 2
}
